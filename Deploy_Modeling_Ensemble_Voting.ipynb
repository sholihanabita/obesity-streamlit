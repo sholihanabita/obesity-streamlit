{
  "cells": [
    {
      "cell_type": "code",
      "execution_count": 83,
      "metadata": {
        "id": "747WS-9gojQh"
      },
      "outputs": [],
      "source": [
        "#load data\n",
        "import pandas as pd\n",
        "import numpy as np\n",
        "import matplotlib.pyplot as plt\n",
        "import seaborn as sns\n",
        "import plotly.express as px\n",
        "\n",
        "#Prepocessing\n",
        "from sklearn.preprocessing import LabelEncoder\n",
        "from sklearn.model_selection import train_test_split, GridSearchCV\n",
        "from sklearn.preprocessing import StandardScaler\n",
        "\n",
        "#model training\n",
        "from sklearn.linear_model import LogisticRegression\n",
        "from sklearn.tree import DecisionTreeClassifier\n",
        "from sklearn.ensemble import RandomForestClassifier\n",
        "from sklearn.svm import SVC\n",
        "from sklearn.metrics import accuracy_score, classification_report, confusion_matrix\n",
        "from sklearn.ensemble import VotingClassifier\n",
        "import joblib"
      ]
    },
    {
      "cell_type": "code",
      "execution_count": 84,
      "metadata": {
        "colab": {
          "base_uri": "https://localhost:8080/",
          "height": 443
        },
        "id": "caoQJ54gucW1",
        "outputId": "e46177b2-a0db-4ed2-ea5e-77be966f3d92"
      },
      "outputs": [
        {
          "data": {
            "text/html": [
              "<div>\n",
              "<style scoped>\n",
              "    .dataframe tbody tr th:only-of-type {\n",
              "        vertical-align: middle;\n",
              "    }\n",
              "\n",
              "    .dataframe tbody tr th {\n",
              "        vertical-align: top;\n",
              "    }\n",
              "\n",
              "    .dataframe thead th {\n",
              "        text-align: right;\n",
              "    }\n",
              "</style>\n",
              "<table border=\"1\" class=\"dataframe\">\n",
              "  <thead>\n",
              "    <tr style=\"text-align: right;\">\n",
              "      <th></th>\n",
              "      <th>Gender</th>\n",
              "      <th>Age</th>\n",
              "      <th>Height</th>\n",
              "      <th>Weight</th>\n",
              "      <th>family_history_with_overweight</th>\n",
              "      <th>FAVC</th>\n",
              "      <th>FCVC</th>\n",
              "      <th>NCP</th>\n",
              "      <th>CAEC</th>\n",
              "      <th>SCC</th>\n",
              "      <th>CALC</th>\n",
              "      <th>MTRANS</th>\n",
              "      <th>NObeyesdad</th>\n",
              "    </tr>\n",
              "  </thead>\n",
              "  <tbody>\n",
              "    <tr>\n",
              "      <th>0</th>\n",
              "      <td>Female</td>\n",
              "      <td>21</td>\n",
              "      <td>1.62</td>\n",
              "      <td>64.0</td>\n",
              "      <td>yes</td>\n",
              "      <td>no</td>\n",
              "      <td>2</td>\n",
              "      <td>3</td>\n",
              "      <td>Sometimes</td>\n",
              "      <td>no</td>\n",
              "      <td>no</td>\n",
              "      <td>Public_Transportation</td>\n",
              "      <td>Normal_Weight</td>\n",
              "    </tr>\n",
              "    <tr>\n",
              "      <th>1</th>\n",
              "      <td>Female</td>\n",
              "      <td>21</td>\n",
              "      <td>1.52</td>\n",
              "      <td>56.0</td>\n",
              "      <td>yes</td>\n",
              "      <td>no</td>\n",
              "      <td>3</td>\n",
              "      <td>3</td>\n",
              "      <td>Sometimes</td>\n",
              "      <td>yes</td>\n",
              "      <td>Sometimes</td>\n",
              "      <td>Public_Transportation</td>\n",
              "      <td>Normal_Weight</td>\n",
              "    </tr>\n",
              "    <tr>\n",
              "      <th>2</th>\n",
              "      <td>Male</td>\n",
              "      <td>23</td>\n",
              "      <td>1.80</td>\n",
              "      <td>77.0</td>\n",
              "      <td>yes</td>\n",
              "      <td>no</td>\n",
              "      <td>2</td>\n",
              "      <td>3</td>\n",
              "      <td>Sometimes</td>\n",
              "      <td>no</td>\n",
              "      <td>Frequently</td>\n",
              "      <td>Public_Transportation</td>\n",
              "      <td>Normal_Weight</td>\n",
              "    </tr>\n",
              "    <tr>\n",
              "      <th>3</th>\n",
              "      <td>Male</td>\n",
              "      <td>27</td>\n",
              "      <td>1.80</td>\n",
              "      <td>87.0</td>\n",
              "      <td>no</td>\n",
              "      <td>no</td>\n",
              "      <td>3</td>\n",
              "      <td>3</td>\n",
              "      <td>Sometimes</td>\n",
              "      <td>no</td>\n",
              "      <td>Frequently</td>\n",
              "      <td>Walking</td>\n",
              "      <td>Overweight_Level_I</td>\n",
              "    </tr>\n",
              "    <tr>\n",
              "      <th>4</th>\n",
              "      <td>Male</td>\n",
              "      <td>22</td>\n",
              "      <td>1.78</td>\n",
              "      <td>89.8</td>\n",
              "      <td>no</td>\n",
              "      <td>no</td>\n",
              "      <td>2</td>\n",
              "      <td>1</td>\n",
              "      <td>Sometimes</td>\n",
              "      <td>no</td>\n",
              "      <td>Sometimes</td>\n",
              "      <td>Public_Transportation</td>\n",
              "      <td>Overweight_Level_II</td>\n",
              "    </tr>\n",
              "    <tr>\n",
              "      <th>...</th>\n",
              "      <td>...</td>\n",
              "      <td>...</td>\n",
              "      <td>...</td>\n",
              "      <td>...</td>\n",
              "      <td>...</td>\n",
              "      <td>...</td>\n",
              "      <td>...</td>\n",
              "      <td>...</td>\n",
              "      <td>...</td>\n",
              "      <td>...</td>\n",
              "      <td>...</td>\n",
              "      <td>...</td>\n",
              "      <td>...</td>\n",
              "    </tr>\n",
              "    <tr>\n",
              "      <th>95</th>\n",
              "      <td>Male</td>\n",
              "      <td>26</td>\n",
              "      <td>1.70</td>\n",
              "      <td>70.0</td>\n",
              "      <td>yes</td>\n",
              "      <td>no</td>\n",
              "      <td>3</td>\n",
              "      <td>1</td>\n",
              "      <td>Frequently</td>\n",
              "      <td>no</td>\n",
              "      <td>Frequently</td>\n",
              "      <td>Public_Transportation</td>\n",
              "      <td>Normal_Weight</td>\n",
              "    </tr>\n",
              "    <tr>\n",
              "      <th>96</th>\n",
              "      <td>Female</td>\n",
              "      <td>23</td>\n",
              "      <td>1.66</td>\n",
              "      <td>60.0</td>\n",
              "      <td>yes</td>\n",
              "      <td>no</td>\n",
              "      <td>2</td>\n",
              "      <td>3</td>\n",
              "      <td>Sometimes</td>\n",
              "      <td>no</td>\n",
              "      <td>Sometimes</td>\n",
              "      <td>Public_Transportation</td>\n",
              "      <td>Normal_Weight</td>\n",
              "    </tr>\n",
              "    <tr>\n",
              "      <th>97</th>\n",
              "      <td>Female</td>\n",
              "      <td>21</td>\n",
              "      <td>1.52</td>\n",
              "      <td>42.0</td>\n",
              "      <td>no</td>\n",
              "      <td>no</td>\n",
              "      <td>3</td>\n",
              "      <td>1</td>\n",
              "      <td>Frequently</td>\n",
              "      <td>no</td>\n",
              "      <td>Sometimes</td>\n",
              "      <td>Public_Transportation</td>\n",
              "      <td>Insufficient_Weight</td>\n",
              "    </tr>\n",
              "    <tr>\n",
              "      <th>98</th>\n",
              "      <td>Female</td>\n",
              "      <td>21</td>\n",
              "      <td>1.52</td>\n",
              "      <td>42.0</td>\n",
              "      <td>no</td>\n",
              "      <td>no</td>\n",
              "      <td>3</td>\n",
              "      <td>1</td>\n",
              "      <td>Frequently</td>\n",
              "      <td>no</td>\n",
              "      <td>Sometimes</td>\n",
              "      <td>Public_Transportation</td>\n",
              "      <td>Insufficient_Weight</td>\n",
              "    </tr>\n",
              "    <tr>\n",
              "      <th>99</th>\n",
              "      <td>Male</td>\n",
              "      <td>23</td>\n",
              "      <td>1.72</td>\n",
              "      <td>70.0</td>\n",
              "      <td>no</td>\n",
              "      <td>no</td>\n",
              "      <td>2</td>\n",
              "      <td>3</td>\n",
              "      <td>Sometimes</td>\n",
              "      <td>no</td>\n",
              "      <td>Frequently</td>\n",
              "      <td>Public_Transportation</td>\n",
              "      <td>Normal_Weight</td>\n",
              "    </tr>\n",
              "  </tbody>\n",
              "</table>\n",
              "<p>100 rows × 13 columns</p>\n",
              "</div>"
            ],
            "text/plain": [
              "    Gender  Age  Height  Weight family_history_with_overweight FAVC  FCVC  \\\n",
              "0   Female   21    1.62    64.0                            yes   no     2   \n",
              "1   Female   21    1.52    56.0                            yes   no     3   \n",
              "2     Male   23    1.80    77.0                            yes   no     2   \n",
              "3     Male   27    1.80    87.0                             no   no     3   \n",
              "4     Male   22    1.78    89.8                             no   no     2   \n",
              "..     ...  ...     ...     ...                            ...  ...   ...   \n",
              "95    Male   26    1.70    70.0                            yes   no     3   \n",
              "96  Female   23    1.66    60.0                            yes   no     2   \n",
              "97  Female   21    1.52    42.0                             no   no     3   \n",
              "98  Female   21    1.52    42.0                             no   no     3   \n",
              "99    Male   23    1.72    70.0                             no   no     2   \n",
              "\n",
              "    NCP        CAEC  SCC        CALC                 MTRANS  \\\n",
              "0     3   Sometimes   no          no  Public_Transportation   \n",
              "1     3   Sometimes  yes   Sometimes  Public_Transportation   \n",
              "2     3   Sometimes   no  Frequently  Public_Transportation   \n",
              "3     3   Sometimes   no  Frequently                Walking   \n",
              "4     1   Sometimes   no   Sometimes  Public_Transportation   \n",
              "..  ...         ...  ...         ...                    ...   \n",
              "95    1  Frequently   no  Frequently  Public_Transportation   \n",
              "96    3   Sometimes   no   Sometimes  Public_Transportation   \n",
              "97    1  Frequently   no   Sometimes  Public_Transportation   \n",
              "98    1  Frequently   no   Sometimes  Public_Transportation   \n",
              "99    3   Sometimes   no  Frequently  Public_Transportation   \n",
              "\n",
              "             NObeyesdad  \n",
              "0         Normal_Weight  \n",
              "1         Normal_Weight  \n",
              "2         Normal_Weight  \n",
              "3    Overweight_Level_I  \n",
              "4   Overweight_Level_II  \n",
              "..                  ...  \n",
              "95        Normal_Weight  \n",
              "96        Normal_Weight  \n",
              "97  Insufficient_Weight  \n",
              "98  Insufficient_Weight  \n",
              "99        Normal_Weight  \n",
              "\n",
              "[100 rows x 13 columns]"
            ]
          },
          "execution_count": 84,
          "metadata": {},
          "output_type": "execute_result"
        }
      ],
      "source": [
        "path = 'ObesityDataSet_raw.csv'\n",
        "df_data = pd.read_csv(path)\n",
        "df_data.head(100)"
      ]
    },
    {
      "cell_type": "code",
      "execution_count": 85,
      "metadata": {
        "colab": {
          "base_uri": "https://localhost:8080/"
        },
        "id": "TZMjDiXD6XFB",
        "outputId": "d684f600-0cc6-4e10-dbc4-2ff501adee54"
      },
      "outputs": [
        {
          "name": "stdout",
          "output_type": "stream",
          "text": [
            "<class 'pandas.core.frame.DataFrame'>\n",
            "RangeIndex: 2111 entries, 0 to 2110\n",
            "Data columns (total 13 columns):\n",
            " #   Column                          Non-Null Count  Dtype  \n",
            "---  ------                          --------------  -----  \n",
            " 0   Gender                          2111 non-null   object \n",
            " 1   Age                             2111 non-null   int64  \n",
            " 2   Height                          2111 non-null   float64\n",
            " 3   Weight                          2111 non-null   float64\n",
            " 4   family_history_with_overweight  2111 non-null   object \n",
            " 5   FAVC                            2111 non-null   object \n",
            " 6   FCVC                            2111 non-null   int64  \n",
            " 7   NCP                             2111 non-null   int64  \n",
            " 8   CAEC                            2111 non-null   object \n",
            " 9   SCC                             2111 non-null   object \n",
            " 10  CALC                            2111 non-null   object \n",
            " 11  MTRANS                          2111 non-null   object \n",
            " 12  NObeyesdad                      2111 non-null   object \n",
            "dtypes: float64(2), int64(3), object(8)\n",
            "memory usage: 214.5+ KB\n"
          ]
        }
      ],
      "source": [
        "df_data.info()"
      ]
    },
    {
      "cell_type": "code",
      "execution_count": 86,
      "metadata": {
        "colab": {
          "base_uri": "https://localhost:8080/",
          "height": 300
        },
        "id": "qK_fuaqpqvvq",
        "outputId": "0bcd3c0e-81fd-4e68-bf59-de8d48d2765e"
      },
      "outputs": [
        {
          "data": {
            "text/html": [
              "<div>\n",
              "<style scoped>\n",
              "    .dataframe tbody tr th:only-of-type {\n",
              "        vertical-align: middle;\n",
              "    }\n",
              "\n",
              "    .dataframe tbody tr th {\n",
              "        vertical-align: top;\n",
              "    }\n",
              "\n",
              "    .dataframe thead th {\n",
              "        text-align: right;\n",
              "    }\n",
              "</style>\n",
              "<table border=\"1\" class=\"dataframe\">\n",
              "  <thead>\n",
              "    <tr style=\"text-align: right;\">\n",
              "      <th></th>\n",
              "      <th>Age</th>\n",
              "      <th>Height</th>\n",
              "      <th>Weight</th>\n",
              "      <th>FCVC</th>\n",
              "      <th>NCP</th>\n",
              "    </tr>\n",
              "  </thead>\n",
              "  <tbody>\n",
              "    <tr>\n",
              "      <th>count</th>\n",
              "      <td>2111.000000</td>\n",
              "      <td>2111.000000</td>\n",
              "      <td>2111.000000</td>\n",
              "      <td>2111.000000</td>\n",
              "      <td>2111.000000</td>\n",
              "    </tr>\n",
              "    <tr>\n",
              "      <th>mean</th>\n",
              "      <td>24.315964</td>\n",
              "      <td>1.701620</td>\n",
              "      <td>86.585978</td>\n",
              "      <td>2.423496</td>\n",
              "      <td>2.687826</td>\n",
              "    </tr>\n",
              "    <tr>\n",
              "      <th>std</th>\n",
              "      <td>6.357078</td>\n",
              "      <td>0.093368</td>\n",
              "      <td>26.191165</td>\n",
              "      <td>0.583905</td>\n",
              "      <td>0.809680</td>\n",
              "    </tr>\n",
              "    <tr>\n",
              "      <th>min</th>\n",
              "      <td>14.000000</td>\n",
              "      <td>1.450000</td>\n",
              "      <td>39.000000</td>\n",
              "      <td>1.000000</td>\n",
              "      <td>1.000000</td>\n",
              "    </tr>\n",
              "    <tr>\n",
              "      <th>25%</th>\n",
              "      <td>20.000000</td>\n",
              "      <td>1.630000</td>\n",
              "      <td>65.450000</td>\n",
              "      <td>2.000000</td>\n",
              "      <td>3.000000</td>\n",
              "    </tr>\n",
              "    <tr>\n",
              "      <th>50%</th>\n",
              "      <td>23.000000</td>\n",
              "      <td>1.700000</td>\n",
              "      <td>83.000000</td>\n",
              "      <td>2.000000</td>\n",
              "      <td>3.000000</td>\n",
              "    </tr>\n",
              "    <tr>\n",
              "      <th>75%</th>\n",
              "      <td>26.000000</td>\n",
              "      <td>1.770000</td>\n",
              "      <td>107.450000</td>\n",
              "      <td>3.000000</td>\n",
              "      <td>3.000000</td>\n",
              "    </tr>\n",
              "    <tr>\n",
              "      <th>max</th>\n",
              "      <td>61.000000</td>\n",
              "      <td>1.980000</td>\n",
              "      <td>173.000000</td>\n",
              "      <td>3.000000</td>\n",
              "      <td>4.000000</td>\n",
              "    </tr>\n",
              "  </tbody>\n",
              "</table>\n",
              "</div>"
            ],
            "text/plain": [
              "               Age       Height       Weight         FCVC          NCP\n",
              "count  2111.000000  2111.000000  2111.000000  2111.000000  2111.000000\n",
              "mean     24.315964     1.701620    86.585978     2.423496     2.687826\n",
              "std       6.357078     0.093368    26.191165     0.583905     0.809680\n",
              "min      14.000000     1.450000    39.000000     1.000000     1.000000\n",
              "25%      20.000000     1.630000    65.450000     2.000000     3.000000\n",
              "50%      23.000000     1.700000    83.000000     2.000000     3.000000\n",
              "75%      26.000000     1.770000   107.450000     3.000000     3.000000\n",
              "max      61.000000     1.980000   173.000000     3.000000     4.000000"
            ]
          },
          "execution_count": 86,
          "metadata": {},
          "output_type": "execute_result"
        }
      ],
      "source": [
        "df_data.describe()"
      ]
    },
    {
      "cell_type": "code",
      "execution_count": 87,
      "metadata": {
        "colab": {
          "base_uri": "https://localhost:8080/"
        },
        "id": "vXlLcvYMYqsx",
        "outputId": "3bcf2b64-31ba-48d2-89de-98fdee07d468"
      },
      "outputs": [
        {
          "name": "stdout",
          "output_type": "stream",
          "text": [
            "Jumlah data duplikat: 170\n"
          ]
        }
      ],
      "source": [
        "# Checking for duplicated rows\n",
        "duplicated_count = df_data.duplicated().sum()\n",
        "print(f\"Jumlah data duplikat: {duplicated_count}\")"
      ]
    },
    {
      "cell_type": "code",
      "execution_count": 88,
      "metadata": {
        "colab": {
          "base_uri": "https://localhost:8080/"
        },
        "id": "8ADsn1feYqsx",
        "outputId": "d545b2b5-acf9-4a58-8282-4f29b5966cb1"
      },
      "outputs": [
        {
          "name": "stdout",
          "output_type": "stream",
          "text": [
            "Jumlah data duplikat: 0\n"
          ]
        }
      ],
      "source": [
        "# drop duplicate\n",
        "df_drop_duplicate = df_data.drop_duplicates()\n",
        "duplicated_count = df_drop_duplicate.duplicated().sum()\n",
        "print(f\"Jumlah data duplikat: {duplicated_count}\")"
      ]
    },
    {
      "cell_type": "code",
      "execution_count": 89,
      "metadata": {
        "colab": {
          "base_uri": "https://localhost:8080/",
          "height": 206
        },
        "id": "KuGJ_UyjYqsy",
        "outputId": "74ef19be-d691-467a-e72a-64a3e714426d"
      },
      "outputs": [
        {
          "name": "stderr",
          "output_type": "stream",
          "text": [
            "C:\\Users\\User\\AppData\\Local\\Temp\\ipykernel_26428\\3578793187.py:46: SettingWithCopyWarning: \n",
            "A value is trying to be set on a copy of a slice from a DataFrame.\n",
            "Try using .loc[row_indexer,col_indexer] = value instead\n",
            "\n",
            "See the caveats in the documentation: https://pandas.pydata.org/pandas-docs/stable/user_guide/indexing.html#returning-a-view-versus-a-copy\n",
            "  df_drop_duplicate[col] = le.fit_transform(df_drop_duplicate[col])\n",
            "C:\\Users\\User\\AppData\\Local\\Temp\\ipykernel_26428\\3578793187.py:46: SettingWithCopyWarning: \n",
            "A value is trying to be set on a copy of a slice from a DataFrame.\n",
            "Try using .loc[row_indexer,col_indexer] = value instead\n",
            "\n",
            "See the caveats in the documentation: https://pandas.pydata.org/pandas-docs/stable/user_guide/indexing.html#returning-a-view-versus-a-copy\n",
            "  df_drop_duplicate[col] = le.fit_transform(df_drop_duplicate[col])\n",
            "C:\\Users\\User\\AppData\\Local\\Temp\\ipykernel_26428\\3578793187.py:46: SettingWithCopyWarning: \n",
            "A value is trying to be set on a copy of a slice from a DataFrame.\n",
            "Try using .loc[row_indexer,col_indexer] = value instead\n",
            "\n",
            "See the caveats in the documentation: https://pandas.pydata.org/pandas-docs/stable/user_guide/indexing.html#returning-a-view-versus-a-copy\n",
            "  df_drop_duplicate[col] = le.fit_transform(df_drop_duplicate[col])\n",
            "C:\\Users\\User\\AppData\\Local\\Temp\\ipykernel_26428\\3578793187.py:43: SettingWithCopyWarning: \n",
            "A value is trying to be set on a copy of a slice from a DataFrame.\n",
            "Try using .loc[row_indexer,col_indexer] = value instead\n",
            "\n",
            "See the caveats in the documentation: https://pandas.pydata.org/pandas-docs/stable/user_guide/indexing.html#returning-a-view-versus-a-copy\n",
            "  df_drop_duplicate[col] = df_drop_duplicate[col].map(label_orders[col])\n",
            "C:\\Users\\User\\AppData\\Local\\Temp\\ipykernel_26428\\3578793187.py:46: SettingWithCopyWarning: \n",
            "A value is trying to be set on a copy of a slice from a DataFrame.\n",
            "Try using .loc[row_indexer,col_indexer] = value instead\n",
            "\n",
            "See the caveats in the documentation: https://pandas.pydata.org/pandas-docs/stable/user_guide/indexing.html#returning-a-view-versus-a-copy\n",
            "  df_drop_duplicate[col] = le.fit_transform(df_drop_duplicate[col])\n",
            "C:\\Users\\User\\AppData\\Local\\Temp\\ipykernel_26428\\3578793187.py:43: SettingWithCopyWarning: \n",
            "A value is trying to be set on a copy of a slice from a DataFrame.\n",
            "Try using .loc[row_indexer,col_indexer] = value instead\n",
            "\n",
            "See the caveats in the documentation: https://pandas.pydata.org/pandas-docs/stable/user_guide/indexing.html#returning-a-view-versus-a-copy\n",
            "  df_drop_duplicate[col] = df_drop_duplicate[col].map(label_orders[col])\n",
            "C:\\Users\\User\\AppData\\Local\\Temp\\ipykernel_26428\\3578793187.py:43: SettingWithCopyWarning: \n",
            "A value is trying to be set on a copy of a slice from a DataFrame.\n",
            "Try using .loc[row_indexer,col_indexer] = value instead\n",
            "\n",
            "See the caveats in the documentation: https://pandas.pydata.org/pandas-docs/stable/user_guide/indexing.html#returning-a-view-versus-a-copy\n",
            "  df_drop_duplicate[col] = df_drop_duplicate[col].map(label_orders[col])\n",
            "C:\\Users\\User\\AppData\\Local\\Temp\\ipykernel_26428\\3578793187.py:43: SettingWithCopyWarning: \n",
            "A value is trying to be set on a copy of a slice from a DataFrame.\n",
            "Try using .loc[row_indexer,col_indexer] = value instead\n",
            "\n",
            "See the caveats in the documentation: https://pandas.pydata.org/pandas-docs/stable/user_guide/indexing.html#returning-a-view-versus-a-copy\n",
            "  df_drop_duplicate[col] = df_drop_duplicate[col].map(label_orders[col])\n"
          ]
        }
      ],
      "source": [
        "categorical_columns = ['Gender', 'family_history_with_overweight', 'FAVC', 'CAEC', 'SCC', 'CALC', 'MTRANS', 'NObeyesdad']\n",
        "le = LabelEncoder()\n",
        "# Define the ordered labeling for each categorical column\n",
        "label_orders = {\n",
        "    'CAEC': {\n",
        "        'no': 0,\n",
        "        'Sometimes': 1,\n",
        "        'Frequently': 2,\n",
        "        'Always': 3\n",
        "    },\n",
        "    'MTRANS': {\n",
        "        'Walking': 0,\n",
        "        'Bike': 1,\n",
        "        'Motorbike': 2,\n",
        "        'Public_Transportation': 3,\n",
        "        'Automobile': 4\n",
        "    },\n",
        "    # For other columns, you can specify their orders if needed\n",
        "    # If no specific order is needed, they will be encoded alphabetically\n",
        "    'Gender': {},'FHWO': {},'FAVC': {},'SMOKE': {},'SCC': {},\n",
        "    'CALC': {'no': 0,\n",
        "        'Sometimes': 1,\n",
        "        'Frequently': 2,\n",
        "        'Always': 3\n",
        "    },            \n",
        "    'NObeyesdad': { 'Insufficient_Weight' : 0,\n",
        "                   'Normal_Weight' : 1, \n",
        "                   'Overweight_Level_I' : 2,  \n",
        "                   'Overweight_Level_II' : 3,\n",
        "                   'Obesity_Type_I' : 4, \n",
        "                   'Obesity_Type_II' :  5,  \n",
        "                   'Obesity_Type_III' : 6\n",
        "                   }\n",
        "}\n",
        "\n",
        "# Apply LabelEncoder with specified orders where applicable\n",
        "for col in categorical_columns:\n",
        "    if col in label_orders and label_orders[col]:\n",
        "        # Create mapping for columns with specified order\n",
        "        unique_values = df_drop_duplicate[col].unique()\n",
        "        # Include all possible values in the classes_\n",
        "        le.classes_ = list(label_orders[col].keys())\n",
        "        df_drop_duplicate[col] = df_drop_duplicate[col].map(label_orders[col])\n",
        "    else:\n",
        "        # Standard LabelEncoder for columns without specified order\n",
        "        df_drop_duplicate[col] = le.fit_transform(df_drop_duplicate[col])"
      ]
    },
    {
      "cell_type": "code",
      "execution_count": 91,
      "metadata": {},
      "outputs": [
        {
          "data": {
            "text/html": [
              "<div>\n",
              "<style scoped>\n",
              "    .dataframe tbody tr th:only-of-type {\n",
              "        vertical-align: middle;\n",
              "    }\n",
              "\n",
              "    .dataframe tbody tr th {\n",
              "        vertical-align: top;\n",
              "    }\n",
              "\n",
              "    .dataframe thead th {\n",
              "        text-align: right;\n",
              "    }\n",
              "</style>\n",
              "<table border=\"1\" class=\"dataframe\">\n",
              "  <thead>\n",
              "    <tr style=\"text-align: right;\">\n",
              "      <th></th>\n",
              "      <th>Gender</th>\n",
              "      <th>Age</th>\n",
              "      <th>Height</th>\n",
              "      <th>Weight</th>\n",
              "      <th>family_history_with_overweight</th>\n",
              "      <th>FAVC</th>\n",
              "      <th>FCVC</th>\n",
              "      <th>NCP</th>\n",
              "      <th>CAEC</th>\n",
              "      <th>SCC</th>\n",
              "      <th>CALC</th>\n",
              "      <th>MTRANS</th>\n",
              "      <th>NObeyesdad</th>\n",
              "    </tr>\n",
              "  </thead>\n",
              "  <tbody>\n",
              "    <tr>\n",
              "      <th>0</th>\n",
              "      <td>0</td>\n",
              "      <td>21</td>\n",
              "      <td>1.62</td>\n",
              "      <td>64.0</td>\n",
              "      <td>1</td>\n",
              "      <td>0</td>\n",
              "      <td>2</td>\n",
              "      <td>3</td>\n",
              "      <td>1</td>\n",
              "      <td>0</td>\n",
              "      <td>0</td>\n",
              "      <td>3</td>\n",
              "      <td>1</td>\n",
              "    </tr>\n",
              "    <tr>\n",
              "      <th>1</th>\n",
              "      <td>0</td>\n",
              "      <td>21</td>\n",
              "      <td>1.52</td>\n",
              "      <td>56.0</td>\n",
              "      <td>1</td>\n",
              "      <td>0</td>\n",
              "      <td>3</td>\n",
              "      <td>3</td>\n",
              "      <td>1</td>\n",
              "      <td>1</td>\n",
              "      <td>1</td>\n",
              "      <td>3</td>\n",
              "      <td>1</td>\n",
              "    </tr>\n",
              "    <tr>\n",
              "      <th>2</th>\n",
              "      <td>1</td>\n",
              "      <td>23</td>\n",
              "      <td>1.80</td>\n",
              "      <td>77.0</td>\n",
              "      <td>1</td>\n",
              "      <td>0</td>\n",
              "      <td>2</td>\n",
              "      <td>3</td>\n",
              "      <td>1</td>\n",
              "      <td>0</td>\n",
              "      <td>2</td>\n",
              "      <td>3</td>\n",
              "      <td>1</td>\n",
              "    </tr>\n",
              "    <tr>\n",
              "      <th>3</th>\n",
              "      <td>1</td>\n",
              "      <td>27</td>\n",
              "      <td>1.80</td>\n",
              "      <td>87.0</td>\n",
              "      <td>0</td>\n",
              "      <td>0</td>\n",
              "      <td>3</td>\n",
              "      <td>3</td>\n",
              "      <td>1</td>\n",
              "      <td>0</td>\n",
              "      <td>2</td>\n",
              "      <td>0</td>\n",
              "      <td>2</td>\n",
              "    </tr>\n",
              "    <tr>\n",
              "      <th>4</th>\n",
              "      <td>1</td>\n",
              "      <td>22</td>\n",
              "      <td>1.78</td>\n",
              "      <td>89.8</td>\n",
              "      <td>0</td>\n",
              "      <td>0</td>\n",
              "      <td>2</td>\n",
              "      <td>1</td>\n",
              "      <td>1</td>\n",
              "      <td>0</td>\n",
              "      <td>1</td>\n",
              "      <td>3</td>\n",
              "      <td>3</td>\n",
              "    </tr>\n",
              "  </tbody>\n",
              "</table>\n",
              "</div>"
            ],
            "text/plain": [
              "   Gender  Age  Height  Weight  family_history_with_overweight  FAVC  FCVC  \\\n",
              "0       0   21    1.62    64.0                               1     0     2   \n",
              "1       0   21    1.52    56.0                               1     0     3   \n",
              "2       1   23    1.80    77.0                               1     0     2   \n",
              "3       1   27    1.80    87.0                               0     0     3   \n",
              "4       1   22    1.78    89.8                               0     0     2   \n",
              "\n",
              "   NCP  CAEC  SCC  CALC  MTRANS  NObeyesdad  \n",
              "0    3     1    0     0       3           1  \n",
              "1    3     1    1     1       3           1  \n",
              "2    3     1    0     2       3           1  \n",
              "3    3     1    0     2       0           2  \n",
              "4    1     1    0     1       3           3  "
            ]
          },
          "execution_count": 91,
          "metadata": {},
          "output_type": "execute_result"
        }
      ],
      "source": [
        "df_drop_duplicate.head()"
      ]
    },
    {
      "cell_type": "code",
      "execution_count": 92,
      "metadata": {
        "colab": {
          "base_uri": "https://localhost:8080/",
          "height": 459
        },
        "id": "5GPHGjJWYqsy",
        "outputId": "2d84b08d-7050-4ca7-96bb-bdb2f9aee283"
      },
      "outputs": [
        {
          "name": "stdout",
          "output_type": "stream",
          "text": [
            "\n",
            "DataFrame setelah StandardScaler:\n"
          ]
        },
        {
          "name": "stderr",
          "output_type": "stream",
          "text": [
            "C:\\Users\\User\\AppData\\Local\\Temp\\ipykernel_26428\\3313473959.py:6: SettingWithCopyWarning: \n",
            "A value is trying to be set on a copy of a slice from a DataFrame.\n",
            "Try using .loc[row_indexer,col_indexer] = value instead\n",
            "\n",
            "See the caveats in the documentation: https://pandas.pydata.org/pandas-docs/stable/user_guide/indexing.html#returning-a-view-versus-a-copy\n",
            "  df_drop_duplicate[numerical_columns] = scaler.fit_transform(df_drop_duplicate[numerical_columns])\n"
          ]
        },
        {
          "data": {
            "text/html": [
              "<div>\n",
              "<style scoped>\n",
              "    .dataframe tbody tr th:only-of-type {\n",
              "        vertical-align: middle;\n",
              "    }\n",
              "\n",
              "    .dataframe tbody tr th {\n",
              "        vertical-align: top;\n",
              "    }\n",
              "\n",
              "    .dataframe thead th {\n",
              "        text-align: right;\n",
              "    }\n",
              "</style>\n",
              "<table border=\"1\" class=\"dataframe\">\n",
              "  <thead>\n",
              "    <tr style=\"text-align: right;\">\n",
              "      <th></th>\n",
              "      <th>Gender</th>\n",
              "      <th>Age</th>\n",
              "      <th>Height</th>\n",
              "      <th>Weight</th>\n",
              "      <th>family_history_with_overweight</th>\n",
              "      <th>FAVC</th>\n",
              "      <th>FCVC</th>\n",
              "      <th>NCP</th>\n",
              "      <th>CAEC</th>\n",
              "      <th>SCC</th>\n",
              "      <th>CALC</th>\n",
              "      <th>MTRANS</th>\n",
              "      <th>NObeyesdad</th>\n",
              "    </tr>\n",
              "  </thead>\n",
              "  <tbody>\n",
              "    <tr>\n",
              "      <th>0</th>\n",
              "      <td>0</td>\n",
              "      <td>-0.510579</td>\n",
              "      <td>-0.899998</td>\n",
              "      <td>-0.839675</td>\n",
              "      <td>1</td>\n",
              "      <td>0</td>\n",
              "      <td>-0.687305</td>\n",
              "      <td>0.371366</td>\n",
              "      <td>-0.325189</td>\n",
              "      <td>0</td>\n",
              "      <td>-1.373813</td>\n",
              "      <td>-0.185571</td>\n",
              "      <td>1</td>\n",
              "    </tr>\n",
              "    <tr>\n",
              "      <th>1</th>\n",
              "      <td>0</td>\n",
              "      <td>-0.510579</td>\n",
              "      <td>-1.963040</td>\n",
              "      <td>-1.144988</td>\n",
              "      <td>1</td>\n",
              "      <td>0</td>\n",
              "      <td>1.018652</td>\n",
              "      <td>0.371366</td>\n",
              "      <td>-0.325189</td>\n",
              "      <td>1</td>\n",
              "      <td>0.536338</td>\n",
              "      <td>-0.185571</td>\n",
              "      <td>1</td>\n",
              "    </tr>\n",
              "    <tr>\n",
              "      <th>2</th>\n",
              "      <td>1</td>\n",
              "      <td>-0.204326</td>\n",
              "      <td>1.013477</td>\n",
              "      <td>-0.343542</td>\n",
              "      <td>1</td>\n",
              "      <td>0</td>\n",
              "      <td>-0.687305</td>\n",
              "      <td>0.371366</td>\n",
              "      <td>-0.325189</td>\n",
              "      <td>0</td>\n",
              "      <td>2.446490</td>\n",
              "      <td>-0.185571</td>\n",
              "      <td>1</td>\n",
              "    </tr>\n",
              "    <tr>\n",
              "      <th>3</th>\n",
              "      <td>1</td>\n",
              "      <td>0.408179</td>\n",
              "      <td>1.013477</td>\n",
              "      <td>0.038099</td>\n",
              "      <td>0</td>\n",
              "      <td>0</td>\n",
              "      <td>1.018652</td>\n",
              "      <td>0.371366</td>\n",
              "      <td>-0.325189</td>\n",
              "      <td>0</td>\n",
              "      <td>2.446490</td>\n",
              "      <td>-4.490675</td>\n",
              "      <td>2</td>\n",
              "    </tr>\n",
              "    <tr>\n",
              "      <th>4</th>\n",
              "      <td>1</td>\n",
              "      <td>-0.357453</td>\n",
              "      <td>0.800869</td>\n",
              "      <td>0.144959</td>\n",
              "      <td>0</td>\n",
              "      <td>0</td>\n",
              "      <td>-0.687305</td>\n",
              "      <td>-2.114223</td>\n",
              "      <td>-0.325189</td>\n",
              "      <td>0</td>\n",
              "      <td>0.536338</td>\n",
              "      <td>-0.185571</td>\n",
              "      <td>3</td>\n",
              "    </tr>\n",
              "    <tr>\n",
              "      <th>...</th>\n",
              "      <td>...</td>\n",
              "      <td>...</td>\n",
              "      <td>...</td>\n",
              "      <td>...</td>\n",
              "      <td>...</td>\n",
              "      <td>...</td>\n",
              "      <td>...</td>\n",
              "      <td>...</td>\n",
              "      <td>...</td>\n",
              "      <td>...</td>\n",
              "      <td>...</td>\n",
              "      <td>...</td>\n",
              "      <td>...</td>\n",
              "    </tr>\n",
              "    <tr>\n",
              "      <th>95</th>\n",
              "      <td>1</td>\n",
              "      <td>0.255053</td>\n",
              "      <td>-0.049565</td>\n",
              "      <td>-0.610690</td>\n",
              "      <td>1</td>\n",
              "      <td>0</td>\n",
              "      <td>1.018652</td>\n",
              "      <td>-2.114223</td>\n",
              "      <td>1.807217</td>\n",
              "      <td>0</td>\n",
              "      <td>2.446490</td>\n",
              "      <td>-0.185571</td>\n",
              "      <td>1</td>\n",
              "    </tr>\n",
              "    <tr>\n",
              "      <th>96</th>\n",
              "      <td>0</td>\n",
              "      <td>-0.204326</td>\n",
              "      <td>-0.474782</td>\n",
              "      <td>-0.992331</td>\n",
              "      <td>1</td>\n",
              "      <td>0</td>\n",
              "      <td>-0.687305</td>\n",
              "      <td>0.371366</td>\n",
              "      <td>-0.325189</td>\n",
              "      <td>0</td>\n",
              "      <td>0.536338</td>\n",
              "      <td>-0.185571</td>\n",
              "      <td>1</td>\n",
              "    </tr>\n",
              "    <tr>\n",
              "      <th>97</th>\n",
              "      <td>0</td>\n",
              "      <td>-0.510579</td>\n",
              "      <td>-1.963040</td>\n",
              "      <td>-1.679285</td>\n",
              "      <td>0</td>\n",
              "      <td>0</td>\n",
              "      <td>1.018652</td>\n",
              "      <td>-2.114223</td>\n",
              "      <td>1.807217</td>\n",
              "      <td>0</td>\n",
              "      <td>0.536338</td>\n",
              "      <td>-0.185571</td>\n",
              "      <td>0</td>\n",
              "    </tr>\n",
              "    <tr>\n",
              "      <th>99</th>\n",
              "      <td>1</td>\n",
              "      <td>-0.204326</td>\n",
              "      <td>0.163044</td>\n",
              "      <td>-0.610690</td>\n",
              "      <td>0</td>\n",
              "      <td>0</td>\n",
              "      <td>-0.687305</td>\n",
              "      <td>0.371366</td>\n",
              "      <td>-0.325189</td>\n",
              "      <td>0</td>\n",
              "      <td>2.446490</td>\n",
              "      <td>-0.185571</td>\n",
              "      <td>1</td>\n",
              "    </tr>\n",
              "    <tr>\n",
              "      <th>100</th>\n",
              "      <td>0</td>\n",
              "      <td>-0.510579</td>\n",
              "      <td>-0.155869</td>\n",
              "      <td>-0.877839</td>\n",
              "      <td>0</td>\n",
              "      <td>1</td>\n",
              "      <td>1.018652</td>\n",
              "      <td>-2.114223</td>\n",
              "      <td>-0.325189</td>\n",
              "      <td>0</td>\n",
              "      <td>0.536338</td>\n",
              "      <td>-0.185571</td>\n",
              "      <td>1</td>\n",
              "    </tr>\n",
              "  </tbody>\n",
              "</table>\n",
              "<p>100 rows × 13 columns</p>\n",
              "</div>"
            ],
            "text/plain": [
              "     Gender       Age    Height    Weight  family_history_with_overweight  \\\n",
              "0         0 -0.510579 -0.899998 -0.839675                               1   \n",
              "1         0 -0.510579 -1.963040 -1.144988                               1   \n",
              "2         1 -0.204326  1.013477 -0.343542                               1   \n",
              "3         1  0.408179  1.013477  0.038099                               0   \n",
              "4         1 -0.357453  0.800869  0.144959                               0   \n",
              "..      ...       ...       ...       ...                             ...   \n",
              "95        1  0.255053 -0.049565 -0.610690                               1   \n",
              "96        0 -0.204326 -0.474782 -0.992331                               1   \n",
              "97        0 -0.510579 -1.963040 -1.679285                               0   \n",
              "99        1 -0.204326  0.163044 -0.610690                               0   \n",
              "100       0 -0.510579 -0.155869 -0.877839                               0   \n",
              "\n",
              "     FAVC      FCVC       NCP      CAEC  SCC      CALC    MTRANS  NObeyesdad  \n",
              "0       0 -0.687305  0.371366 -0.325189    0 -1.373813 -0.185571           1  \n",
              "1       0  1.018652  0.371366 -0.325189    1  0.536338 -0.185571           1  \n",
              "2       0 -0.687305  0.371366 -0.325189    0  2.446490 -0.185571           1  \n",
              "3       0  1.018652  0.371366 -0.325189    0  2.446490 -4.490675           2  \n",
              "4       0 -0.687305 -2.114223 -0.325189    0  0.536338 -0.185571           3  \n",
              "..    ...       ...       ...       ...  ...       ...       ...         ...  \n",
              "95      0  1.018652 -2.114223  1.807217    0  2.446490 -0.185571           1  \n",
              "96      0 -0.687305  0.371366 -0.325189    0  0.536338 -0.185571           1  \n",
              "97      0  1.018652 -2.114223  1.807217    0  0.536338 -0.185571           0  \n",
              "99      0 -0.687305  0.371366 -0.325189    0  2.446490 -0.185571           1  \n",
              "100     1  1.018652 -2.114223 -0.325189    0  0.536338 -0.185571           1  \n",
              "\n",
              "[100 rows x 13 columns]"
            ]
          },
          "execution_count": 92,
          "metadata": {},
          "output_type": "execute_result"
        }
      ],
      "source": [
        "numerical_columns = ['Age', 'Height', 'Weight', 'FCVC', 'NCP', 'CAEC', 'CALC', 'MTRANS']\n",
        "# Inisialisasi StandardScaler\n",
        "scaler = StandardScaler()\n",
        "\n",
        "# Melakukan Standard Scaling pada kolom numerik yang relevan\n",
        "df_drop_duplicate[numerical_columns] = scaler.fit_transform(df_drop_duplicate[numerical_columns])\n",
        "\n",
        "print(\"\\nDataFrame setelah StandardScaler:\")\n",
        "df_drop_duplicate.head(100)"
      ]
    },
    {
      "cell_type": "code",
      "execution_count": 93,
      "metadata": {
        "colab": {
          "base_uri": "https://localhost:8080/",
          "height": 206
        },
        "id": "uUhqMWvm2f9a",
        "outputId": "213cc07d-2d73-43aa-8205-5e64eeb08b13"
      },
      "outputs": [
        {
          "data": {
            "text/html": [
              "<div>\n",
              "<style scoped>\n",
              "    .dataframe tbody tr th:only-of-type {\n",
              "        vertical-align: middle;\n",
              "    }\n",
              "\n",
              "    .dataframe tbody tr th {\n",
              "        vertical-align: top;\n",
              "    }\n",
              "\n",
              "    .dataframe thead th {\n",
              "        text-align: right;\n",
              "    }\n",
              "</style>\n",
              "<table border=\"1\" class=\"dataframe\">\n",
              "  <thead>\n",
              "    <tr style=\"text-align: right;\">\n",
              "      <th></th>\n",
              "      <th>Gender</th>\n",
              "      <th>Age</th>\n",
              "      <th>Height</th>\n",
              "      <th>Weight</th>\n",
              "      <th>family_history_with_overweight</th>\n",
              "      <th>FAVC</th>\n",
              "      <th>FCVC</th>\n",
              "      <th>NCP</th>\n",
              "      <th>CAEC</th>\n",
              "      <th>SCC</th>\n",
              "      <th>CALC</th>\n",
              "      <th>MTRANS</th>\n",
              "      <th>NObeyesdad</th>\n",
              "    </tr>\n",
              "  </thead>\n",
              "  <tbody>\n",
              "    <tr>\n",
              "      <th>0</th>\n",
              "      <td>0</td>\n",
              "      <td>-0.510579</td>\n",
              "      <td>-0.899998</td>\n",
              "      <td>-0.839675</td>\n",
              "      <td>1</td>\n",
              "      <td>0</td>\n",
              "      <td>-0.687305</td>\n",
              "      <td>0.371366</td>\n",
              "      <td>-0.325189</td>\n",
              "      <td>0</td>\n",
              "      <td>-1.373813</td>\n",
              "      <td>-0.185571</td>\n",
              "      <td>1</td>\n",
              "    </tr>\n",
              "    <tr>\n",
              "      <th>1</th>\n",
              "      <td>0</td>\n",
              "      <td>-0.510579</td>\n",
              "      <td>-1.963040</td>\n",
              "      <td>-1.144988</td>\n",
              "      <td>1</td>\n",
              "      <td>0</td>\n",
              "      <td>1.018652</td>\n",
              "      <td>0.371366</td>\n",
              "      <td>-0.325189</td>\n",
              "      <td>1</td>\n",
              "      <td>0.536338</td>\n",
              "      <td>-0.185571</td>\n",
              "      <td>1</td>\n",
              "    </tr>\n",
              "    <tr>\n",
              "      <th>2</th>\n",
              "      <td>1</td>\n",
              "      <td>-0.204326</td>\n",
              "      <td>1.013477</td>\n",
              "      <td>-0.343542</td>\n",
              "      <td>1</td>\n",
              "      <td>0</td>\n",
              "      <td>-0.687305</td>\n",
              "      <td>0.371366</td>\n",
              "      <td>-0.325189</td>\n",
              "      <td>0</td>\n",
              "      <td>2.446490</td>\n",
              "      <td>-0.185571</td>\n",
              "      <td>1</td>\n",
              "    </tr>\n",
              "    <tr>\n",
              "      <th>3</th>\n",
              "      <td>1</td>\n",
              "      <td>0.408179</td>\n",
              "      <td>1.013477</td>\n",
              "      <td>0.038099</td>\n",
              "      <td>0</td>\n",
              "      <td>0</td>\n",
              "      <td>1.018652</td>\n",
              "      <td>0.371366</td>\n",
              "      <td>-0.325189</td>\n",
              "      <td>0</td>\n",
              "      <td>2.446490</td>\n",
              "      <td>-4.490675</td>\n",
              "      <td>2</td>\n",
              "    </tr>\n",
              "    <tr>\n",
              "      <th>4</th>\n",
              "      <td>1</td>\n",
              "      <td>-0.357453</td>\n",
              "      <td>0.800869</td>\n",
              "      <td>0.144959</td>\n",
              "      <td>0</td>\n",
              "      <td>0</td>\n",
              "      <td>-0.687305</td>\n",
              "      <td>-2.114223</td>\n",
              "      <td>-0.325189</td>\n",
              "      <td>0</td>\n",
              "      <td>0.536338</td>\n",
              "      <td>-0.185571</td>\n",
              "      <td>3</td>\n",
              "    </tr>\n",
              "  </tbody>\n",
              "</table>\n",
              "</div>"
            ],
            "text/plain": [
              "   Gender       Age    Height    Weight  family_history_with_overweight  FAVC  \\\n",
              "0       0 -0.510579 -0.899998 -0.839675                               1     0   \n",
              "1       0 -0.510579 -1.963040 -1.144988                               1     0   \n",
              "2       1 -0.204326  1.013477 -0.343542                               1     0   \n",
              "3       1  0.408179  1.013477  0.038099                               0     0   \n",
              "4       1 -0.357453  0.800869  0.144959                               0     0   \n",
              "\n",
              "       FCVC       NCP      CAEC  SCC      CALC    MTRANS  NObeyesdad  \n",
              "0 -0.687305  0.371366 -0.325189    0 -1.373813 -0.185571           1  \n",
              "1  1.018652  0.371366 -0.325189    1  0.536338 -0.185571           1  \n",
              "2 -0.687305  0.371366 -0.325189    0  2.446490 -0.185571           1  \n",
              "3  1.018652  0.371366 -0.325189    0  2.446490 -4.490675           2  \n",
              "4 -0.687305 -2.114223 -0.325189    0  0.536338 -0.185571           3  "
            ]
          },
          "execution_count": 93,
          "metadata": {},
          "output_type": "execute_result"
        }
      ],
      "source": [
        "selected_features = ['Gender', 'Age', 'Height', 'Weight', 'family_history_with_overweight', 'FAVC', 'FCVC', 'NCP', 'CAEC', 'SCC', 'CALC', 'MTRANS', 'NObeyesdad']\n",
        "df = df_drop_duplicate[selected_features]\n",
        "df.head()"
      ]
    },
    {
      "cell_type": "markdown",
      "metadata": {
        "id": "Jdb5n6CrtksA"
      },
      "source": [
        "## Data Splitting"
      ]
    },
    {
      "cell_type": "code",
      "execution_count": 94,
      "metadata": {
        "id": "NuFIN1Zq4a5U"
      },
      "outputs": [],
      "source": [
        "# Separate the dependent variable from the independent variables\n",
        "y = df['NObeyesdad']\n",
        "X = df.drop('NObeyesdad', axis=1)\n",
        "# 2. Splitting 80:20 (80% train, 20% test)\n",
        "X_train_80, X_test_20, y_train_80, y_test_20 = train_test_split(X, y, test_size=0.2, random_state=42)"
      ]
    },
    {
      "cell_type": "code",
      "execution_count": 95,
      "metadata": {
        "colab": {
          "base_uri": "https://localhost:8080/"
        },
        "id": "pqhEiPrU5aeg",
        "outputId": "fe0c6081-8a3f-4800-f902-83c3051fb2da"
      },
      "outputs": [
        {
          "name": "stdout",
          "output_type": "stream",
          "text": [
            "X_train: (1552, 12)\n",
            "X_test: (389, 12)\n",
            "y_train: (1552,)\n",
            "y_test: (389,)\n"
          ]
        }
      ],
      "source": [
        "# @title 80:20\n",
        "# Print shapes of the resulting datasets\n",
        "print(\"X_train:\", X_train_80.shape)\n",
        "print(\"X_test:\", X_test_20.shape)\n",
        "print(\"y_train:\", y_train_80.shape)\n",
        "print(\"y_test:\", y_test_20.shape)"
      ]
    },
    {
      "cell_type": "markdown",
      "metadata": {
        "id": "r-IV54IAY10g"
      },
      "source": [
        "#80:20"
      ]
    },
    {
      "cell_type": "markdown",
      "metadata": {
        "id": "aqhoi1OF1xgV"
      },
      "source": [
        "## Best Parameter"
      ]
    },
    {
      "cell_type": "markdown",
      "metadata": {
        "id": "UFI-LeZL11XP"
      },
      "source": [
        "### Decsision Tree"
      ]
    },
    {
      "cell_type": "code",
      "execution_count": 105,
      "metadata": {
        "colab": {
          "base_uri": "https://localhost:8080/",
          "height": 182
        },
        "id": "nN0lXPWHH5Tv",
        "outputId": "227620fc-ceb5-49c6-aee7-97e7d6c97792"
      },
      "outputs": [
        {
          "name": "stdout",
          "output_type": "stream",
          "text": [
            "Fitting 10 folds for each of 48 candidates, totalling 480 fits\n"
          ]
        },
        {
          "data": {
            "text/html": [
              "<style>#sk-container-id-18 {color: black;}#sk-container-id-18 pre{padding: 0;}#sk-container-id-18 div.sk-toggleable {background-color: white;}#sk-container-id-18 label.sk-toggleable__label {cursor: pointer;display: block;width: 100%;margin-bottom: 0;padding: 0.3em;box-sizing: border-box;text-align: center;}#sk-container-id-18 label.sk-toggleable__label-arrow:before {content: \"▸\";float: left;margin-right: 0.25em;color: #696969;}#sk-container-id-18 label.sk-toggleable__label-arrow:hover:before {color: black;}#sk-container-id-18 div.sk-estimator:hover label.sk-toggleable__label-arrow:before {color: black;}#sk-container-id-18 div.sk-toggleable__content {max-height: 0;max-width: 0;overflow: hidden;text-align: left;background-color: #f0f8ff;}#sk-container-id-18 div.sk-toggleable__content pre {margin: 0.2em;color: black;border-radius: 0.25em;background-color: #f0f8ff;}#sk-container-id-18 input.sk-toggleable__control:checked~div.sk-toggleable__content {max-height: 200px;max-width: 100%;overflow: auto;}#sk-container-id-18 input.sk-toggleable__control:checked~label.sk-toggleable__label-arrow:before {content: \"▾\";}#sk-container-id-18 div.sk-estimator input.sk-toggleable__control:checked~label.sk-toggleable__label {background-color: #d4ebff;}#sk-container-id-18 div.sk-label input.sk-toggleable__control:checked~label.sk-toggleable__label {background-color: #d4ebff;}#sk-container-id-18 input.sk-hidden--visually {border: 0;clip: rect(1px 1px 1px 1px);clip: rect(1px, 1px, 1px, 1px);height: 1px;margin: -1px;overflow: hidden;padding: 0;position: absolute;width: 1px;}#sk-container-id-18 div.sk-estimator {font-family: monospace;background-color: #f0f8ff;border: 1px dotted black;border-radius: 0.25em;box-sizing: border-box;margin-bottom: 0.5em;}#sk-container-id-18 div.sk-estimator:hover {background-color: #d4ebff;}#sk-container-id-18 div.sk-parallel-item::after {content: \"\";width: 100%;border-bottom: 1px solid gray;flex-grow: 1;}#sk-container-id-18 div.sk-label:hover label.sk-toggleable__label {background-color: #d4ebff;}#sk-container-id-18 div.sk-serial::before {content: \"\";position: absolute;border-left: 1px solid gray;box-sizing: border-box;top: 0;bottom: 0;left: 50%;z-index: 0;}#sk-container-id-18 div.sk-serial {display: flex;flex-direction: column;align-items: center;background-color: white;padding-right: 0.2em;padding-left: 0.2em;position: relative;}#sk-container-id-18 div.sk-item {position: relative;z-index: 1;}#sk-container-id-18 div.sk-parallel {display: flex;align-items: stretch;justify-content: center;background-color: white;position: relative;}#sk-container-id-18 div.sk-item::before, #sk-container-id-18 div.sk-parallel-item::before {content: \"\";position: absolute;border-left: 1px solid gray;box-sizing: border-box;top: 0;bottom: 0;left: 50%;z-index: -1;}#sk-container-id-18 div.sk-parallel-item {display: flex;flex-direction: column;z-index: 1;position: relative;background-color: white;}#sk-container-id-18 div.sk-parallel-item:first-child::after {align-self: flex-end;width: 50%;}#sk-container-id-18 div.sk-parallel-item:last-child::after {align-self: flex-start;width: 50%;}#sk-container-id-18 div.sk-parallel-item:only-child::after {width: 0;}#sk-container-id-18 div.sk-dashed-wrapped {border: 1px dashed gray;margin: 0 0.4em 0.5em 0.4em;box-sizing: border-box;padding-bottom: 0.4em;background-color: white;}#sk-container-id-18 div.sk-label label {font-family: monospace;font-weight: bold;display: inline-block;line-height: 1.2em;}#sk-container-id-18 div.sk-label-container {text-align: center;}#sk-container-id-18 div.sk-container {/* jupyter's `normalize.less` sets `[hidden] { display: none; }` but bootstrap.min.css set `[hidden] { display: none !important; }` so we also need the `!important` here to be able to override the default hidden behavior on the sphinx rendered scikit-learn.org. See: https://github.com/scikit-learn/scikit-learn/issues/21755 */display: inline-block !important;position: relative;}#sk-container-id-18 div.sk-text-repr-fallback {display: none;}</style><div id=\"sk-container-id-18\" class=\"sk-top-container\"><div class=\"sk-text-repr-fallback\"><pre>GridSearchCV(cv=10, estimator=DecisionTreeClassifier(random_state=42),\n",
              "             n_jobs=-1,\n",
              "             param_grid={&#x27;criterion&#x27;: [&#x27;gini&#x27;, &#x27;entropy&#x27;],\n",
              "                         &#x27;max_depth&#x27;: [10, 15, 20, 25],\n",
              "                         &#x27;min_samples_leaf&#x27;: [1, 2, 5],\n",
              "                         &#x27;splitter&#x27;: [&#x27;best&#x27;, &#x27;random&#x27;]},\n",
              "             verbose=3)</pre><b>In a Jupyter environment, please rerun this cell to show the HTML representation or trust the notebook. <br />On GitHub, the HTML representation is unable to render, please try loading this page with nbviewer.org.</b></div><div class=\"sk-container\" hidden><div class=\"sk-item sk-dashed-wrapped\"><div class=\"sk-label-container\"><div class=\"sk-label sk-toggleable\"><input class=\"sk-toggleable__control sk-hidden--visually\" id=\"sk-estimator-id-36\" type=\"checkbox\" ><label for=\"sk-estimator-id-36\" class=\"sk-toggleable__label sk-toggleable__label-arrow\">GridSearchCV</label><div class=\"sk-toggleable__content\"><pre>GridSearchCV(cv=10, estimator=DecisionTreeClassifier(random_state=42),\n",
              "             n_jobs=-1,\n",
              "             param_grid={&#x27;criterion&#x27;: [&#x27;gini&#x27;, &#x27;entropy&#x27;],\n",
              "                         &#x27;max_depth&#x27;: [10, 15, 20, 25],\n",
              "                         &#x27;min_samples_leaf&#x27;: [1, 2, 5],\n",
              "                         &#x27;splitter&#x27;: [&#x27;best&#x27;, &#x27;random&#x27;]},\n",
              "             verbose=3)</pre></div></div></div><div class=\"sk-parallel\"><div class=\"sk-parallel-item\"><div class=\"sk-item\"><div class=\"sk-label-container\"><div class=\"sk-label sk-toggleable\"><input class=\"sk-toggleable__control sk-hidden--visually\" id=\"sk-estimator-id-37\" type=\"checkbox\" ><label for=\"sk-estimator-id-37\" class=\"sk-toggleable__label sk-toggleable__label-arrow\">estimator: DecisionTreeClassifier</label><div class=\"sk-toggleable__content\"><pre>DecisionTreeClassifier(random_state=42)</pre></div></div></div><div class=\"sk-serial\"><div class=\"sk-item\"><div class=\"sk-estimator sk-toggleable\"><input class=\"sk-toggleable__control sk-hidden--visually\" id=\"sk-estimator-id-38\" type=\"checkbox\" ><label for=\"sk-estimator-id-38\" class=\"sk-toggleable__label sk-toggleable__label-arrow\">DecisionTreeClassifier</label><div class=\"sk-toggleable__content\"><pre>DecisionTreeClassifier(random_state=42)</pre></div></div></div></div></div></div></div></div></div></div>"
            ],
            "text/plain": [
              "GridSearchCV(cv=10, estimator=DecisionTreeClassifier(random_state=42),\n",
              "             n_jobs=-1,\n",
              "             param_grid={'criterion': ['gini', 'entropy'],\n",
              "                         'max_depth': [10, 15, 20, 25],\n",
              "                         'min_samples_leaf': [1, 2, 5],\n",
              "                         'splitter': ['best', 'random']},\n",
              "             verbose=3)"
            ]
          },
          "execution_count": 105,
          "metadata": {},
          "output_type": "execute_result"
        }
      ],
      "source": [
        "tree_clf = DecisionTreeClassifier(random_state=42)\n",
        "tree_param_grid = {\n",
        "    'max_depth': [10, 15, 20, 25],\n",
        "    'min_samples_leaf': [1, 2, 5],\n",
        "    'criterion': ['gini', 'entropy'],\n",
        "    'splitter': ['best', 'random']\n",
        "}\n",
        "tree_grid_search = GridSearchCV(tree_clf, tree_param_grid, cv=10, n_jobs=-1, verbose=3)\n",
        "tree_grid_search.fit(X_train_80, y_train_80)"
      ]
    },
    {
      "cell_type": "code",
      "execution_count": 106,
      "metadata": {
        "colab": {
          "base_uri": "https://localhost:8080/"
        },
        "id": "8c7qpLsT2tpe",
        "outputId": "cbfc3cb8-110d-42e0-f87e-6b15a9690a30"
      },
      "outputs": [
        {
          "name": "stdout",
          "output_type": "stream",
          "text": [
            "Best Parameters: {'criterion': 'entropy', 'max_depth': 15, 'min_samples_leaf': 1, 'splitter': 'best'}\n",
            "Best Cross-Validation Score: 94.4586%\n"
          ]
        }
      ],
      "source": [
        "# Get best parameters and score\n",
        "print(\"Best Parameters:\", tree_grid_search.best_params_)\n",
        "print(\"Best Cross-Validation Score: {:.4f}%\".format(tree_grid_search.best_score_ * 100))"
      ]
    },
    {
      "cell_type": "code",
      "execution_count": 107,
      "metadata": {
        "colab": {
          "base_uri": "https://localhost:8080/"
        },
        "id": "vaqBDhhZJlEm",
        "outputId": "f05d6cd9-78c0-48e1-a708-e49e3b21eb44"
      },
      "outputs": [
        {
          "name": "stdout",
          "output_type": "stream",
          "text": [
            "Accuracy of Best Decision Tree: 96.401028%\n",
            "Classification Report:\n",
            "               precision    recall  f1-score   support\n",
            "\n",
            "           0     0.9322    0.9483    0.9402        58\n",
            "           1     0.9273    0.9107    0.9189        56\n",
            "           2     0.9756    0.9091    0.9412        44\n",
            "           3     0.9464    0.9815    0.9636        54\n",
            "           4     0.9697    1.0000    0.9846        64\n",
            "           5     1.0000    0.9841    0.9920        63\n",
            "           6     1.0000    1.0000    1.0000        50\n",
            "\n",
            "    accuracy                         0.9640       389\n",
            "   macro avg     0.9645    0.9620    0.9629       389\n",
            "weighted avg     0.9642    0.9640    0.9639       389\n",
            "\n",
            "Confusion Matrix:\n",
            " [[55  3  0  0  0  0  0]\n",
            " [ 4 51  1  0  0  0  0]\n",
            " [ 0  1 40  3  0  0  0]\n",
            " [ 0  0  0 53  1  0  0]\n",
            " [ 0  0  0  0 64  0  0]\n",
            " [ 0  0  0  0  1 62  0]\n",
            " [ 0  0  0  0  0  0 50]]\n"
          ]
        }
      ],
      "source": [
        "# Evaluate best Decision Tree on test set\n",
        "best_tree_clf = tree_grid_search.best_estimator_\n",
        "best_pred_dt = best_tree_clf.predict(X_test_20)\n",
        "accuracy_dt_best = accuracy_score(y_test_20, best_pred_dt) * 100\n",
        "print(\"Accuracy of Best Decision Tree: {:.6f}%\".format(accuracy_dt_best))\n",
        "print(\"Classification Report:\\n\", classification_report(y_test_20, best_pred_dt, digits=4))\n",
        "print(\"Confusion Matrix:\\n\", confusion_matrix(y_test_20, best_pred_dt))"
      ]
    },
    {
      "cell_type": "markdown",
      "metadata": {
        "id": "cz3TRhBw7_33"
      },
      "source": [
        "### Random Forest"
      ]
    },
    {
      "cell_type": "code",
      "execution_count": 108,
      "metadata": {
        "colab": {
          "base_uri": "https://localhost:8080/",
          "height": 182
        },
        "id": "MuFAISpR3UOV",
        "outputId": "e68a3cdb-1e09-4cee-8e4e-e9054bc7653b"
      },
      "outputs": [
        {
          "name": "stdout",
          "output_type": "stream",
          "text": [
            "Fitting 10 folds for each of 10 candidates, totalling 100 fits\n"
          ]
        },
        {
          "data": {
            "text/html": [
              "<style>#sk-container-id-19 {color: black;}#sk-container-id-19 pre{padding: 0;}#sk-container-id-19 div.sk-toggleable {background-color: white;}#sk-container-id-19 label.sk-toggleable__label {cursor: pointer;display: block;width: 100%;margin-bottom: 0;padding: 0.3em;box-sizing: border-box;text-align: center;}#sk-container-id-19 label.sk-toggleable__label-arrow:before {content: \"▸\";float: left;margin-right: 0.25em;color: #696969;}#sk-container-id-19 label.sk-toggleable__label-arrow:hover:before {color: black;}#sk-container-id-19 div.sk-estimator:hover label.sk-toggleable__label-arrow:before {color: black;}#sk-container-id-19 div.sk-toggleable__content {max-height: 0;max-width: 0;overflow: hidden;text-align: left;background-color: #f0f8ff;}#sk-container-id-19 div.sk-toggleable__content pre {margin: 0.2em;color: black;border-radius: 0.25em;background-color: #f0f8ff;}#sk-container-id-19 input.sk-toggleable__control:checked~div.sk-toggleable__content {max-height: 200px;max-width: 100%;overflow: auto;}#sk-container-id-19 input.sk-toggleable__control:checked~label.sk-toggleable__label-arrow:before {content: \"▾\";}#sk-container-id-19 div.sk-estimator input.sk-toggleable__control:checked~label.sk-toggleable__label {background-color: #d4ebff;}#sk-container-id-19 div.sk-label input.sk-toggleable__control:checked~label.sk-toggleable__label {background-color: #d4ebff;}#sk-container-id-19 input.sk-hidden--visually {border: 0;clip: rect(1px 1px 1px 1px);clip: rect(1px, 1px, 1px, 1px);height: 1px;margin: -1px;overflow: hidden;padding: 0;position: absolute;width: 1px;}#sk-container-id-19 div.sk-estimator {font-family: monospace;background-color: #f0f8ff;border: 1px dotted black;border-radius: 0.25em;box-sizing: border-box;margin-bottom: 0.5em;}#sk-container-id-19 div.sk-estimator:hover {background-color: #d4ebff;}#sk-container-id-19 div.sk-parallel-item::after {content: \"\";width: 100%;border-bottom: 1px solid gray;flex-grow: 1;}#sk-container-id-19 div.sk-label:hover label.sk-toggleable__label {background-color: #d4ebff;}#sk-container-id-19 div.sk-serial::before {content: \"\";position: absolute;border-left: 1px solid gray;box-sizing: border-box;top: 0;bottom: 0;left: 50%;z-index: 0;}#sk-container-id-19 div.sk-serial {display: flex;flex-direction: column;align-items: center;background-color: white;padding-right: 0.2em;padding-left: 0.2em;position: relative;}#sk-container-id-19 div.sk-item {position: relative;z-index: 1;}#sk-container-id-19 div.sk-parallel {display: flex;align-items: stretch;justify-content: center;background-color: white;position: relative;}#sk-container-id-19 div.sk-item::before, #sk-container-id-19 div.sk-parallel-item::before {content: \"\";position: absolute;border-left: 1px solid gray;box-sizing: border-box;top: 0;bottom: 0;left: 50%;z-index: -1;}#sk-container-id-19 div.sk-parallel-item {display: flex;flex-direction: column;z-index: 1;position: relative;background-color: white;}#sk-container-id-19 div.sk-parallel-item:first-child::after {align-self: flex-end;width: 50%;}#sk-container-id-19 div.sk-parallel-item:last-child::after {align-self: flex-start;width: 50%;}#sk-container-id-19 div.sk-parallel-item:only-child::after {width: 0;}#sk-container-id-19 div.sk-dashed-wrapped {border: 1px dashed gray;margin: 0 0.4em 0.5em 0.4em;box-sizing: border-box;padding-bottom: 0.4em;background-color: white;}#sk-container-id-19 div.sk-label label {font-family: monospace;font-weight: bold;display: inline-block;line-height: 1.2em;}#sk-container-id-19 div.sk-label-container {text-align: center;}#sk-container-id-19 div.sk-container {/* jupyter's `normalize.less` sets `[hidden] { display: none; }` but bootstrap.min.css set `[hidden] { display: none !important; }` so we also need the `!important` here to be able to override the default hidden behavior on the sphinx rendered scikit-learn.org. See: https://github.com/scikit-learn/scikit-learn/issues/21755 */display: inline-block !important;position: relative;}#sk-container-id-19 div.sk-text-repr-fallback {display: none;}</style><div id=\"sk-container-id-19\" class=\"sk-top-container\"><div class=\"sk-text-repr-fallback\"><pre>GridSearchCV(cv=10, estimator=RandomForestClassifier(random_state=42),\n",
              "             n_jobs=-1,\n",
              "             param_grid={&#x27;criterion&#x27;: [&#x27;entropy&#x27;, &#x27;gini&#x27;],\n",
              "                         &#x27;n_estimators&#x27;: [50, 100, 150, 200, 250]},\n",
              "             verbose=3)</pre><b>In a Jupyter environment, please rerun this cell to show the HTML representation or trust the notebook. <br />On GitHub, the HTML representation is unable to render, please try loading this page with nbviewer.org.</b></div><div class=\"sk-container\" hidden><div class=\"sk-item sk-dashed-wrapped\"><div class=\"sk-label-container\"><div class=\"sk-label sk-toggleable\"><input class=\"sk-toggleable__control sk-hidden--visually\" id=\"sk-estimator-id-39\" type=\"checkbox\" ><label for=\"sk-estimator-id-39\" class=\"sk-toggleable__label sk-toggleable__label-arrow\">GridSearchCV</label><div class=\"sk-toggleable__content\"><pre>GridSearchCV(cv=10, estimator=RandomForestClassifier(random_state=42),\n",
              "             n_jobs=-1,\n",
              "             param_grid={&#x27;criterion&#x27;: [&#x27;entropy&#x27;, &#x27;gini&#x27;],\n",
              "                         &#x27;n_estimators&#x27;: [50, 100, 150, 200, 250]},\n",
              "             verbose=3)</pre></div></div></div><div class=\"sk-parallel\"><div class=\"sk-parallel-item\"><div class=\"sk-item\"><div class=\"sk-label-container\"><div class=\"sk-label sk-toggleable\"><input class=\"sk-toggleable__control sk-hidden--visually\" id=\"sk-estimator-id-40\" type=\"checkbox\" ><label for=\"sk-estimator-id-40\" class=\"sk-toggleable__label sk-toggleable__label-arrow\">estimator: RandomForestClassifier</label><div class=\"sk-toggleable__content\"><pre>RandomForestClassifier(random_state=42)</pre></div></div></div><div class=\"sk-serial\"><div class=\"sk-item\"><div class=\"sk-estimator sk-toggleable\"><input class=\"sk-toggleable__control sk-hidden--visually\" id=\"sk-estimator-id-41\" type=\"checkbox\" ><label for=\"sk-estimator-id-41\" class=\"sk-toggleable__label sk-toggleable__label-arrow\">RandomForestClassifier</label><div class=\"sk-toggleable__content\"><pre>RandomForestClassifier(random_state=42)</pre></div></div></div></div></div></div></div></div></div></div>"
            ],
            "text/plain": [
              "GridSearchCV(cv=10, estimator=RandomForestClassifier(random_state=42),\n",
              "             n_jobs=-1,\n",
              "             param_grid={'criterion': ['entropy', 'gini'],\n",
              "                         'n_estimators': [50, 100, 150, 200, 250]},\n",
              "             verbose=3)"
            ]
          },
          "execution_count": 108,
          "metadata": {},
          "output_type": "execute_result"
        }
      ],
      "source": [
        "# Initialize Random Forest Classifier and GridSearchCV\n",
        "rf_clf = RandomForestClassifier(random_state=42)\n",
        "rf_param_grid = {\n",
        "    'n_estimators': [50, 100, 150, 200, 250],\n",
        "    'criterion': ['entropy', 'gini']\n",
        "}\n",
        "rf_grid_search = GridSearchCV(rf_clf, rf_param_grid, verbose=3, cv=10, n_jobs=-1)\n",
        "# Fit GridSearchCV\n",
        "rf_grid_search.fit(X_train_80, y_train_80)"
      ]
    },
    {
      "cell_type": "code",
      "execution_count": 109,
      "metadata": {
        "colab": {
          "base_uri": "https://localhost:8080/"
        },
        "id": "f9QUvZGI81Fq",
        "outputId": "ba7627cd-af6b-4005-b662-dcf23c44eece"
      },
      "outputs": [
        {
          "name": "stdout",
          "output_type": "stream",
          "text": [
            "Best Parameters: {'criterion': 'gini', 'n_estimators': 250}\n",
            "Best Cross-Validation Score: 94.2651%\n"
          ]
        }
      ],
      "source": [
        "# Get best parameters and score\n",
        "print(\"Best Parameters:\", rf_grid_search.best_params_)\n",
        "print(\"Best Cross-Validation Score: {:.4f}%\".format(rf_grid_search.best_score_ * 100))"
      ]
    },
    {
      "cell_type": "code",
      "execution_count": 110,
      "metadata": {
        "colab": {
          "base_uri": "https://localhost:8080/"
        },
        "id": "MDrPwG-hJSk3",
        "outputId": "2b581fdb-fd28-4380-8a9b-f72fb6f6420e"
      },
      "outputs": [
        {
          "name": "stdout",
          "output_type": "stream",
          "text": [
            "Accuracy of Best Random Forest: 95.629820%\n",
            "Classification Report:\n",
            "               precision    recall  f1-score   support\n",
            "\n",
            "           0     0.9825    0.9655    0.9739        58\n",
            "           1     0.8361    0.9107    0.8718        56\n",
            "           2     0.9524    0.9091    0.9302        44\n",
            "           3     0.9434    0.9259    0.9346        54\n",
            "           4     0.9844    0.9844    0.9844        64\n",
            "           5     1.0000    0.9841    0.9920        63\n",
            "           6     1.0000    1.0000    1.0000        50\n",
            "\n",
            "    accuracy                         0.9563       389\n",
            "   macro avg     0.9570    0.9543    0.9553       389\n",
            "weighted avg     0.9580    0.9563    0.9568       389\n",
            "\n",
            "Confusion Matrix:\n",
            " [[56  2  0  0  0  0  0]\n",
            " [ 1 51  2  2  0  0  0]\n",
            " [ 0  4 40  0  0  0  0]\n",
            " [ 0  4  0 50  0  0  0]\n",
            " [ 0  0  0  1 63  0  0]\n",
            " [ 0  0  0  0  1 62  0]\n",
            " [ 0  0  0  0  0  0 50]]\n"
          ]
        }
      ],
      "source": [
        "# Evaluate best Random Forest on test set\n",
        "best_rf_clf = rf_grid_search.best_estimator_\n",
        "best_pred_rf = best_rf_clf.predict(X_test_20)\n",
        "accuracy_rf_best = accuracy_score(y_test_20, best_pred_rf) * 100\n",
        "print(\"Accuracy of Best Random Forest: {:.6f}%\".format(accuracy_rf_best))\n",
        "print(\"Classification Report:\\n\", classification_report(y_test_20, best_pred_rf, digits=4))\n",
        "print(\"Confusion Matrix:\\n\", confusion_matrix(y_test_20, best_pred_rf))"
      ]
    },
    {
      "cell_type": "markdown",
      "metadata": {
        "id": "JF4cD0dfFEz9"
      },
      "source": [
        "### Logistic Regession"
      ]
    },
    {
      "cell_type": "code",
      "execution_count": 111,
      "metadata": {
        "colab": {
          "base_uri": "https://localhost:8080/",
          "height": 182
        },
        "id": "wHvWK_18E7H9",
        "outputId": "359274b9-792e-4a70-b5d0-596208d4135f"
      },
      "outputs": [
        {
          "name": "stdout",
          "output_type": "stream",
          "text": [
            "Fitting 10 folds for each of 22 candidates, totalling 220 fits\n"
          ]
        },
        {
          "name": "stderr",
          "output_type": "stream",
          "text": [
            "c:\\Users\\User\\AppData\\Local\\Programs\\Python\\Python310\\lib\\site-packages\\sklearn\\linear_model\\_sag.py:350: ConvergenceWarning: The max_iter was reached which means the coef_ did not converge\n",
            "  warnings.warn(\n"
          ]
        },
        {
          "data": {
            "text/html": [
              "<style>#sk-container-id-20 {color: black;}#sk-container-id-20 pre{padding: 0;}#sk-container-id-20 div.sk-toggleable {background-color: white;}#sk-container-id-20 label.sk-toggleable__label {cursor: pointer;display: block;width: 100%;margin-bottom: 0;padding: 0.3em;box-sizing: border-box;text-align: center;}#sk-container-id-20 label.sk-toggleable__label-arrow:before {content: \"▸\";float: left;margin-right: 0.25em;color: #696969;}#sk-container-id-20 label.sk-toggleable__label-arrow:hover:before {color: black;}#sk-container-id-20 div.sk-estimator:hover label.sk-toggleable__label-arrow:before {color: black;}#sk-container-id-20 div.sk-toggleable__content {max-height: 0;max-width: 0;overflow: hidden;text-align: left;background-color: #f0f8ff;}#sk-container-id-20 div.sk-toggleable__content pre {margin: 0.2em;color: black;border-radius: 0.25em;background-color: #f0f8ff;}#sk-container-id-20 input.sk-toggleable__control:checked~div.sk-toggleable__content {max-height: 200px;max-width: 100%;overflow: auto;}#sk-container-id-20 input.sk-toggleable__control:checked~label.sk-toggleable__label-arrow:before {content: \"▾\";}#sk-container-id-20 div.sk-estimator input.sk-toggleable__control:checked~label.sk-toggleable__label {background-color: #d4ebff;}#sk-container-id-20 div.sk-label input.sk-toggleable__control:checked~label.sk-toggleable__label {background-color: #d4ebff;}#sk-container-id-20 input.sk-hidden--visually {border: 0;clip: rect(1px 1px 1px 1px);clip: rect(1px, 1px, 1px, 1px);height: 1px;margin: -1px;overflow: hidden;padding: 0;position: absolute;width: 1px;}#sk-container-id-20 div.sk-estimator {font-family: monospace;background-color: #f0f8ff;border: 1px dotted black;border-radius: 0.25em;box-sizing: border-box;margin-bottom: 0.5em;}#sk-container-id-20 div.sk-estimator:hover {background-color: #d4ebff;}#sk-container-id-20 div.sk-parallel-item::after {content: \"\";width: 100%;border-bottom: 1px solid gray;flex-grow: 1;}#sk-container-id-20 div.sk-label:hover label.sk-toggleable__label {background-color: #d4ebff;}#sk-container-id-20 div.sk-serial::before {content: \"\";position: absolute;border-left: 1px solid gray;box-sizing: border-box;top: 0;bottom: 0;left: 50%;z-index: 0;}#sk-container-id-20 div.sk-serial {display: flex;flex-direction: column;align-items: center;background-color: white;padding-right: 0.2em;padding-left: 0.2em;position: relative;}#sk-container-id-20 div.sk-item {position: relative;z-index: 1;}#sk-container-id-20 div.sk-parallel {display: flex;align-items: stretch;justify-content: center;background-color: white;position: relative;}#sk-container-id-20 div.sk-item::before, #sk-container-id-20 div.sk-parallel-item::before {content: \"\";position: absolute;border-left: 1px solid gray;box-sizing: border-box;top: 0;bottom: 0;left: 50%;z-index: -1;}#sk-container-id-20 div.sk-parallel-item {display: flex;flex-direction: column;z-index: 1;position: relative;background-color: white;}#sk-container-id-20 div.sk-parallel-item:first-child::after {align-self: flex-end;width: 50%;}#sk-container-id-20 div.sk-parallel-item:last-child::after {align-self: flex-start;width: 50%;}#sk-container-id-20 div.sk-parallel-item:only-child::after {width: 0;}#sk-container-id-20 div.sk-dashed-wrapped {border: 1px dashed gray;margin: 0 0.4em 0.5em 0.4em;box-sizing: border-box;padding-bottom: 0.4em;background-color: white;}#sk-container-id-20 div.sk-label label {font-family: monospace;font-weight: bold;display: inline-block;line-height: 1.2em;}#sk-container-id-20 div.sk-label-container {text-align: center;}#sk-container-id-20 div.sk-container {/* jupyter's `normalize.less` sets `[hidden] { display: none; }` but bootstrap.min.css set `[hidden] { display: none !important; }` so we also need the `!important` here to be able to override the default hidden behavior on the sphinx rendered scikit-learn.org. See: https://github.com/scikit-learn/scikit-learn/issues/21755 */display: inline-block !important;position: relative;}#sk-container-id-20 div.sk-text-repr-fallback {display: none;}</style><div id=\"sk-container-id-20\" class=\"sk-top-container\"><div class=\"sk-text-repr-fallback\"><pre>GridSearchCV(cv=10, estimator=LogisticRegression(max_iter=1000), n_jobs=-1,\n",
              "             param_grid=[{&#x27;C&#x27;: [0.01, 0.1, 1, 10], &#x27;penalty&#x27;: [&#x27;l1&#x27;],\n",
              "                          &#x27;solver&#x27;: [&#x27;liblinear&#x27;, &#x27;saga&#x27;]},\n",
              "                         {&#x27;C&#x27;: [0.01, 0.1, 1, 10], &#x27;penalty&#x27;: [&#x27;l2&#x27;],\n",
              "                          &#x27;solver&#x27;: [&#x27;liblinear&#x27;, &#x27;saga&#x27;, &#x27;lbfgs&#x27;]},\n",
              "                         {&#x27;penalty&#x27;: [None], &#x27;solver&#x27;: [&#x27;lbfgs&#x27;, &#x27;saga&#x27;]}],\n",
              "             verbose=3)</pre><b>In a Jupyter environment, please rerun this cell to show the HTML representation or trust the notebook. <br />On GitHub, the HTML representation is unable to render, please try loading this page with nbviewer.org.</b></div><div class=\"sk-container\" hidden><div class=\"sk-item sk-dashed-wrapped\"><div class=\"sk-label-container\"><div class=\"sk-label sk-toggleable\"><input class=\"sk-toggleable__control sk-hidden--visually\" id=\"sk-estimator-id-42\" type=\"checkbox\" ><label for=\"sk-estimator-id-42\" class=\"sk-toggleable__label sk-toggleable__label-arrow\">GridSearchCV</label><div class=\"sk-toggleable__content\"><pre>GridSearchCV(cv=10, estimator=LogisticRegression(max_iter=1000), n_jobs=-1,\n",
              "             param_grid=[{&#x27;C&#x27;: [0.01, 0.1, 1, 10], &#x27;penalty&#x27;: [&#x27;l1&#x27;],\n",
              "                          &#x27;solver&#x27;: [&#x27;liblinear&#x27;, &#x27;saga&#x27;]},\n",
              "                         {&#x27;C&#x27;: [0.01, 0.1, 1, 10], &#x27;penalty&#x27;: [&#x27;l2&#x27;],\n",
              "                          &#x27;solver&#x27;: [&#x27;liblinear&#x27;, &#x27;saga&#x27;, &#x27;lbfgs&#x27;]},\n",
              "                         {&#x27;penalty&#x27;: [None], &#x27;solver&#x27;: [&#x27;lbfgs&#x27;, &#x27;saga&#x27;]}],\n",
              "             verbose=3)</pre></div></div></div><div class=\"sk-parallel\"><div class=\"sk-parallel-item\"><div class=\"sk-item\"><div class=\"sk-label-container\"><div class=\"sk-label sk-toggleable\"><input class=\"sk-toggleable__control sk-hidden--visually\" id=\"sk-estimator-id-43\" type=\"checkbox\" ><label for=\"sk-estimator-id-43\" class=\"sk-toggleable__label sk-toggleable__label-arrow\">estimator: LogisticRegression</label><div class=\"sk-toggleable__content\"><pre>LogisticRegression(max_iter=1000)</pre></div></div></div><div class=\"sk-serial\"><div class=\"sk-item\"><div class=\"sk-estimator sk-toggleable\"><input class=\"sk-toggleable__control sk-hidden--visually\" id=\"sk-estimator-id-44\" type=\"checkbox\" ><label for=\"sk-estimator-id-44\" class=\"sk-toggleable__label sk-toggleable__label-arrow\">LogisticRegression</label><div class=\"sk-toggleable__content\"><pre>LogisticRegression(max_iter=1000)</pre></div></div></div></div></div></div></div></div></div></div>"
            ],
            "text/plain": [
              "GridSearchCV(cv=10, estimator=LogisticRegression(max_iter=1000), n_jobs=-1,\n",
              "             param_grid=[{'C': [0.01, 0.1, 1, 10], 'penalty': ['l1'],\n",
              "                          'solver': ['liblinear', 'saga']},\n",
              "                         {'C': [0.01, 0.1, 1, 10], 'penalty': ['l2'],\n",
              "                          'solver': ['liblinear', 'saga', 'lbfgs']},\n",
              "                         {'penalty': [None], 'solver': ['lbfgs', 'saga']}],\n",
              "             verbose=3)"
            ]
          },
          "execution_count": 111,
          "metadata": {},
          "output_type": "execute_result"
        }
      ],
      "source": [
        "# Initialize Logistic Regression with increased max_iter\n",
        "lr_clf = LogisticRegression(max_iter=1000)\n",
        "\n",
        "lr_param_grid = [\n",
        "    # For L1 penalty (only liblinear and saga support L1)\n",
        "    {\n",
        "        'penalty': ['l1'],\n",
        "        'C': [0.01, 0.1, 1, 10],\n",
        "        'solver': ['liblinear', 'saga']\n",
        "    },\n",
        "    # For L2 penalty (all solvers support L2)\n",
        "    {\n",
        "        'penalty': ['l2'],\n",
        "        'C': [0.01, 0.1, 1, 10],\n",
        "        'solver': ['liblinear', 'saga', 'lbfgs']\n",
        "    },\n",
        "    # For no penalty (None)\n",
        "    {\n",
        "        'penalty': [None],\n",
        "        'solver': ['lbfgs', 'saga']\n",
        "    }\n",
        "]\n",
        "# Initialize GridSearchCV\n",
        "lr_grid_search = GridSearchCV(lr_clf, lr_param_grid, verbose=3, cv=10, n_jobs=-1)\n",
        "lr_grid_search.fit(X_train_80, y_train_80)"
      ]
    },
    {
      "cell_type": "code",
      "execution_count": 112,
      "metadata": {
        "colab": {
          "base_uri": "https://localhost:8080/"
        },
        "id": "C7LAIDCNF8f3",
        "outputId": "e435da63-d753-437c-bd66-66f1603e1a57"
      },
      "outputs": [
        {
          "name": "stdout",
          "output_type": "stream",
          "text": [
            "Best Parameters: {'C': 10, 'penalty': 'l1', 'solver': 'saga'}\n",
            "Best Cross-Validation Score: 96.13%\n"
          ]
        }
      ],
      "source": [
        "# Get best parameters and score\n",
        "print(\"Best Parameters:\", lr_grid_search.best_params_)\n",
        "print(\"Best Cross-Validation Score: {:.2f}%\".format(lr_grid_search.best_score_ * 100))"
      ]
    },
    {
      "cell_type": "code",
      "execution_count": 113,
      "metadata": {
        "colab": {
          "base_uri": "https://localhost:8080/"
        },
        "id": "mIrwTKHdI4FG",
        "outputId": "4536908e-cd46-49b8-e7f4-c74598bc18f0"
      },
      "outputs": [
        {
          "name": "stdout",
          "output_type": "stream",
          "text": [
            "Accuracy of Best Logistic Regression: 96.401028%\n",
            "Classification Report:\n",
            "               precision    recall  f1-score   support\n",
            "\n",
            "           0     0.9667    1.0000    0.9831        58\n",
            "           1     0.9818    0.9643    0.9730        56\n",
            "           2     0.9286    0.8864    0.9070        44\n",
            "           3     0.9245    0.9074    0.9159        54\n",
            "           4     0.9688    0.9688    0.9688        64\n",
            "           5     0.9692    1.0000    0.9844        63\n",
            "           6     1.0000    1.0000    1.0000        50\n",
            "\n",
            "    accuracy                         0.9640       389\n",
            "   macro avg     0.9628    0.9610    0.9617       389\n",
            "weighted avg     0.9637    0.9640    0.9637       389\n",
            "\n",
            "Confusion Matrix:\n",
            " [[58  0  0  0  0  0  0]\n",
            " [ 2 54  0  0  0  0  0]\n",
            " [ 0  1 39  4  0  0  0]\n",
            " [ 0  0  3 49  2  0  0]\n",
            " [ 0  0  0  0 62  2  0]\n",
            " [ 0  0  0  0  0 63  0]\n",
            " [ 0  0  0  0  0  0 50]]\n"
          ]
        }
      ],
      "source": [
        "# Evaluate best Logistic Regression\n",
        "best_lr_clf = lr_grid_search.best_estimator_\n",
        "best_pred_lr = best_lr_clf.predict(X_test_20)\n",
        "accuracy_lr_best = accuracy_score(y_test_20, best_pred_lr) * 100\n",
        "print(\"Accuracy of Best Logistic Regression: {:.6f}%\".format(accuracy_lr_best))\n",
        "print(\"Classification Report:\\n\", classification_report(y_test_20, best_pred_lr, digits = 4))\n",
        "print(\"Confusion Matrix:\\n\", confusion_matrix(y_test_20, best_pred_lr))"
      ]
    },
    {
      "cell_type": "markdown",
      "metadata": {
        "id": "Mm9NNQ_Z2f90"
      },
      "source": [
        "### Hasil Best Param"
      ]
    },
    {
      "cell_type": "markdown",
      "metadata": {
        "id": "1nb5v4SUjWwl"
      },
      "source": [
        "## Ensemble Voting"
      ]
    },
    {
      "cell_type": "markdown",
      "metadata": {
        "id": "GiuR51exmqdD"
      },
      "source": [
        "### Soft Voting"
      ]
    },
    {
      "cell_type": "code",
      "execution_count": 114,
      "metadata": {
        "colab": {
          "base_uri": "https://localhost:8080/",
          "height": 134
        },
        "id": "Kj7nPvnM2f91",
        "outputId": "efa22011-091d-41ca-a988-fca0d6b99f1e"
      },
      "outputs": [
        {
          "name": "stderr",
          "output_type": "stream",
          "text": [
            "c:\\Users\\User\\AppData\\Local\\Programs\\Python\\Python310\\lib\\site-packages\\sklearn\\linear_model\\_sag.py:350: ConvergenceWarning: The max_iter was reached which means the coef_ did not converge\n",
            "  warnings.warn(\n"
          ]
        },
        {
          "data": {
            "text/html": [
              "<style>#sk-container-id-21 {color: black;}#sk-container-id-21 pre{padding: 0;}#sk-container-id-21 div.sk-toggleable {background-color: white;}#sk-container-id-21 label.sk-toggleable__label {cursor: pointer;display: block;width: 100%;margin-bottom: 0;padding: 0.3em;box-sizing: border-box;text-align: center;}#sk-container-id-21 label.sk-toggleable__label-arrow:before {content: \"▸\";float: left;margin-right: 0.25em;color: #696969;}#sk-container-id-21 label.sk-toggleable__label-arrow:hover:before {color: black;}#sk-container-id-21 div.sk-estimator:hover label.sk-toggleable__label-arrow:before {color: black;}#sk-container-id-21 div.sk-toggleable__content {max-height: 0;max-width: 0;overflow: hidden;text-align: left;background-color: #f0f8ff;}#sk-container-id-21 div.sk-toggleable__content pre {margin: 0.2em;color: black;border-radius: 0.25em;background-color: #f0f8ff;}#sk-container-id-21 input.sk-toggleable__control:checked~div.sk-toggleable__content {max-height: 200px;max-width: 100%;overflow: auto;}#sk-container-id-21 input.sk-toggleable__control:checked~label.sk-toggleable__label-arrow:before {content: \"▾\";}#sk-container-id-21 div.sk-estimator input.sk-toggleable__control:checked~label.sk-toggleable__label {background-color: #d4ebff;}#sk-container-id-21 div.sk-label input.sk-toggleable__control:checked~label.sk-toggleable__label {background-color: #d4ebff;}#sk-container-id-21 input.sk-hidden--visually {border: 0;clip: rect(1px 1px 1px 1px);clip: rect(1px, 1px, 1px, 1px);height: 1px;margin: -1px;overflow: hidden;padding: 0;position: absolute;width: 1px;}#sk-container-id-21 div.sk-estimator {font-family: monospace;background-color: #f0f8ff;border: 1px dotted black;border-radius: 0.25em;box-sizing: border-box;margin-bottom: 0.5em;}#sk-container-id-21 div.sk-estimator:hover {background-color: #d4ebff;}#sk-container-id-21 div.sk-parallel-item::after {content: \"\";width: 100%;border-bottom: 1px solid gray;flex-grow: 1;}#sk-container-id-21 div.sk-label:hover label.sk-toggleable__label {background-color: #d4ebff;}#sk-container-id-21 div.sk-serial::before {content: \"\";position: absolute;border-left: 1px solid gray;box-sizing: border-box;top: 0;bottom: 0;left: 50%;z-index: 0;}#sk-container-id-21 div.sk-serial {display: flex;flex-direction: column;align-items: center;background-color: white;padding-right: 0.2em;padding-left: 0.2em;position: relative;}#sk-container-id-21 div.sk-item {position: relative;z-index: 1;}#sk-container-id-21 div.sk-parallel {display: flex;align-items: stretch;justify-content: center;background-color: white;position: relative;}#sk-container-id-21 div.sk-item::before, #sk-container-id-21 div.sk-parallel-item::before {content: \"\";position: absolute;border-left: 1px solid gray;box-sizing: border-box;top: 0;bottom: 0;left: 50%;z-index: -1;}#sk-container-id-21 div.sk-parallel-item {display: flex;flex-direction: column;z-index: 1;position: relative;background-color: white;}#sk-container-id-21 div.sk-parallel-item:first-child::after {align-self: flex-end;width: 50%;}#sk-container-id-21 div.sk-parallel-item:last-child::after {align-self: flex-start;width: 50%;}#sk-container-id-21 div.sk-parallel-item:only-child::after {width: 0;}#sk-container-id-21 div.sk-dashed-wrapped {border: 1px dashed gray;margin: 0 0.4em 0.5em 0.4em;box-sizing: border-box;padding-bottom: 0.4em;background-color: white;}#sk-container-id-21 div.sk-label label {font-family: monospace;font-weight: bold;display: inline-block;line-height: 1.2em;}#sk-container-id-21 div.sk-label-container {text-align: center;}#sk-container-id-21 div.sk-container {/* jupyter's `normalize.less` sets `[hidden] { display: none; }` but bootstrap.min.css set `[hidden] { display: none !important; }` so we also need the `!important` here to be able to override the default hidden behavior on the sphinx rendered scikit-learn.org. See: https://github.com/scikit-learn/scikit-learn/issues/21755 */display: inline-block !important;position: relative;}#sk-container-id-21 div.sk-text-repr-fallback {display: none;}</style><div id=\"sk-container-id-21\" class=\"sk-top-container\"><div class=\"sk-text-repr-fallback\"><pre>VotingClassifier(estimators=[(&#x27;tree&#x27;,\n",
              "                              DecisionTreeClassifier(criterion=&#x27;entropy&#x27;,\n",
              "                                                     max_depth=15,\n",
              "                                                     random_state=42)),\n",
              "                             (&#x27;rf&#x27;,\n",
              "                              RandomForestClassifier(n_estimators=250,\n",
              "                                                     random_state=42)),\n",
              "                             (&#x27;lr&#x27;,\n",
              "                              LogisticRegression(C=10, max_iter=1000,\n",
              "                                                 penalty=&#x27;l1&#x27;,\n",
              "                                                 solver=&#x27;saga&#x27;))],\n",
              "                 voting=&#x27;soft&#x27;)</pre><b>In a Jupyter environment, please rerun this cell to show the HTML representation or trust the notebook. <br />On GitHub, the HTML representation is unable to render, please try loading this page with nbviewer.org.</b></div><div class=\"sk-container\" hidden><div class=\"sk-item sk-dashed-wrapped\"><div class=\"sk-label-container\"><div class=\"sk-label sk-toggleable\"><input class=\"sk-toggleable__control sk-hidden--visually\" id=\"sk-estimator-id-45\" type=\"checkbox\" ><label for=\"sk-estimator-id-45\" class=\"sk-toggleable__label sk-toggleable__label-arrow\">VotingClassifier</label><div class=\"sk-toggleable__content\"><pre>VotingClassifier(estimators=[(&#x27;tree&#x27;,\n",
              "                              DecisionTreeClassifier(criterion=&#x27;entropy&#x27;,\n",
              "                                                     max_depth=15,\n",
              "                                                     random_state=42)),\n",
              "                             (&#x27;rf&#x27;,\n",
              "                              RandomForestClassifier(n_estimators=250,\n",
              "                                                     random_state=42)),\n",
              "                             (&#x27;lr&#x27;,\n",
              "                              LogisticRegression(C=10, max_iter=1000,\n",
              "                                                 penalty=&#x27;l1&#x27;,\n",
              "                                                 solver=&#x27;saga&#x27;))],\n",
              "                 voting=&#x27;soft&#x27;)</pre></div></div></div><div class=\"sk-parallel\"><div class=\"sk-parallel-item\"><div class=\"sk-item\"><div class=\"sk-label-container\"><div class=\"sk-label sk-toggleable\"><label>tree</label></div></div><div class=\"sk-serial\"><div class=\"sk-item\"><div class=\"sk-estimator sk-toggleable\"><input class=\"sk-toggleable__control sk-hidden--visually\" id=\"sk-estimator-id-46\" type=\"checkbox\" ><label for=\"sk-estimator-id-46\" class=\"sk-toggleable__label sk-toggleable__label-arrow\">DecisionTreeClassifier</label><div class=\"sk-toggleable__content\"><pre>DecisionTreeClassifier(criterion=&#x27;entropy&#x27;, max_depth=15, random_state=42)</pre></div></div></div></div></div></div><div class=\"sk-parallel-item\"><div class=\"sk-item\"><div class=\"sk-label-container\"><div class=\"sk-label sk-toggleable\"><label>rf</label></div></div><div class=\"sk-serial\"><div class=\"sk-item\"><div class=\"sk-estimator sk-toggleable\"><input class=\"sk-toggleable__control sk-hidden--visually\" id=\"sk-estimator-id-47\" type=\"checkbox\" ><label for=\"sk-estimator-id-47\" class=\"sk-toggleable__label sk-toggleable__label-arrow\">RandomForestClassifier</label><div class=\"sk-toggleable__content\"><pre>RandomForestClassifier(n_estimators=250, random_state=42)</pre></div></div></div></div></div></div><div class=\"sk-parallel-item\"><div class=\"sk-item\"><div class=\"sk-label-container\"><div class=\"sk-label sk-toggleable\"><label>lr</label></div></div><div class=\"sk-serial\"><div class=\"sk-item\"><div class=\"sk-estimator sk-toggleable\"><input class=\"sk-toggleable__control sk-hidden--visually\" id=\"sk-estimator-id-48\" type=\"checkbox\" ><label for=\"sk-estimator-id-48\" class=\"sk-toggleable__label sk-toggleable__label-arrow\">LogisticRegression</label><div class=\"sk-toggleable__content\"><pre>LogisticRegression(C=10, max_iter=1000, penalty=&#x27;l1&#x27;, solver=&#x27;saga&#x27;)</pre></div></div></div></div></div></div></div></div></div></div>"
            ],
            "text/plain": [
              "VotingClassifier(estimators=[('tree',\n",
              "                              DecisionTreeClassifier(criterion='entropy',\n",
              "                                                     max_depth=15,\n",
              "                                                     random_state=42)),\n",
              "                             ('rf',\n",
              "                              RandomForestClassifier(n_estimators=250,\n",
              "                                                     random_state=42)),\n",
              "                             ('lr',\n",
              "                              LogisticRegression(C=10, max_iter=1000,\n",
              "                                                 penalty='l1',\n",
              "                                                 solver='saga'))],\n",
              "                 voting='soft')"
            ]
          },
          "execution_count": 114,
          "metadata": {},
          "output_type": "execute_result"
        }
      ],
      "source": [
        "# Create VotingClassifier with soft voting\n",
        "voting_clf_soft = VotingClassifier(\n",
        "    estimators=[\n",
        "        ('tree', best_tree_clf),\n",
        "        ('rf', best_rf_clf),\n",
        "        ('lr', best_lr_clf)\n",
        "    ],\n",
        "    voting='soft'\n",
        ")\n",
        "\n",
        "# Fit the VotingClassifier on the training data\n",
        "voting_clf_soft.fit(X_train_80, y_train_80)"
      ]
    },
    {
      "cell_type": "code",
      "execution_count": 115,
      "metadata": {
        "colab": {
          "base_uri": "https://localhost:8080/"
        },
        "id": "sNtZHZ3I2f91",
        "outputId": "a40d80e2-83a4-4f93-b62d-79d4b493a5e6"
      },
      "outputs": [
        {
          "name": "stdout",
          "output_type": "stream",
          "text": [
            "Accuracy of Soft Voting 3_1: 97.429306%\n",
            "Classification Report:\n",
            "               precision    recall  f1-score   support\n",
            "\n",
            "           0     0.9500    0.9828    0.9661        58\n",
            "           1     0.9630    0.9286    0.9455        56\n",
            "           2     0.9762    0.9318    0.9535        44\n",
            "           3     0.9636    0.9815    0.9725        54\n",
            "           4     0.9697    1.0000    0.9846        64\n",
            "           5     1.0000    0.9841    0.9920        63\n",
            "           6     1.0000    1.0000    1.0000        50\n",
            "\n",
            "    accuracy                         0.9743       389\n",
            "   macro avg     0.9746    0.9727    0.9734       389\n",
            "weighted avg     0.9745    0.9743    0.9742       389\n",
            "\n",
            "Confusion Matrix:\n",
            " [[57  1  0  0  0  0  0]\n",
            " [ 3 52  1  0  0  0  0]\n",
            " [ 0  1 41  2  0  0  0]\n",
            " [ 0  0  0 53  1  0  0]\n",
            " [ 0  0  0  0 64  0  0]\n",
            " [ 0  0  0  0  1 62  0]\n",
            " [ 0  0  0  0  0  0 50]]\n"
          ]
        }
      ],
      "source": [
        "voting_soft = voting_clf_soft.predict(X_test_20)\n",
        "acc_soft_voting = accuracy_score(y_test_20, voting_soft) * 100\n",
        "print(\"Accuracy of Soft Voting 3_1: {:.6f}%\".format(acc_soft_voting))\n",
        "print(\"Classification Report:\\n\", classification_report(y_test_20, voting_soft, digits=4))\n",
        "print(\"Confusion Matrix:\\n\", confusion_matrix(y_test_20, voting_soft))"
      ]
    },
    {
      "cell_type": "code",
      "execution_count": 116,
      "metadata": {},
      "outputs": [],
      "source": [
        "import pickle"
      ]
    },
    {
      "cell_type": "code",
      "execution_count": 117,
      "metadata": {},
      "outputs": [],
      "source": [
        "filename = 'obesity_prediction.sav'\n",
        "pickle.dump(voting_clf_soft, open(filename,'wb'))"
      ]
    },
    {
      "cell_type": "code",
      "execution_count": 118,
      "metadata": {},
      "outputs": [
        {
          "data": {
            "text/plain": [
              "['scaler.joblib']"
            ]
          },
          "execution_count": 118,
          "metadata": {},
          "output_type": "execute_result"
        }
      ],
      "source": [
        "joblib.dump(voting_clf_soft, 'voting_clf_soft.joblib')\n",
        "joblib.dump(scaler, 'scaler.joblib')"
      ]
    }
  ],
  "metadata": {
    "colab": {
      "provenance": []
    },
    "kernelspec": {
      "display_name": "Python 3",
      "name": "python3"
    },
    "language_info": {
      "codemirror_mode": {
        "name": "ipython",
        "version": 3
      },
      "file_extension": ".py",
      "mimetype": "text/x-python",
      "name": "python",
      "nbconvert_exporter": "python",
      "pygments_lexer": "ipython3",
      "version": "3.10.4"
    }
  },
  "nbformat": 4,
  "nbformat_minor": 0
}
